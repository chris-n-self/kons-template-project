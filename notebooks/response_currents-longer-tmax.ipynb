{
 "cells": [
  {
   "cell_type": "markdown",
   "metadata": {
    "deletable": true,
    "editable": true
   },
   "source": [
    "# Imports"
   ]
  },
  {
   "cell_type": "code",
   "execution_count": null,
   "metadata": {
    "deletable": true,
    "editable": true
   },
   "outputs": [],
   "source": [
    "# system and data handling packages\n",
    "import os\n",
    "import sys\n",
    "import json\n",
    "import csv\n",
    "import collections as col\n",
    "\n",
    "# matplotlib packages\n",
    "%matplotlib inline\n",
    "from mpl_toolkits.mplot3d import axes3d\n",
    "from matplotlib import cm\n",
    "import matplotlib.pyplot as plt\n",
    "# change figure fonts\n",
    "from matplotlib import rcParams\n",
    "\n",
    "# import jsci, CT's enhanced json stream write package\n",
    "import jsci\n",
    "from jsci import WriteStream as jsciwrite\n",
    "from jsci import Coding as jscicoding\n",
    "\n",
    "# numpy\n",
    "import numpy as np\n",
    "from scipy.interpolate import interp1d\n",
    "import scipy as sp\n",
    "from scipy import stats\n",
    "from scipy.optimize import curve_fit\n",
    "import scipy.integrate as spint\n",
    "from numpy import fft as npft\n",
    "\n",
    "# import Kitaev Honeycomb package\n",
    "import kithcmb\n",
    "from kithcmb import ThermalGradient as vs"
   ]
  },
  {
   "cell_type": "code",
   "execution_count": null,
   "metadata": {
    "deletable": true,
    "editable": true
   },
   "outputs": [],
   "source": [
    "plt.style.use('prettyfigs')"
   ]
  },
  {
   "cell_type": "code",
   "execution_count": null,
   "metadata": {
    "deletable": true,
    "editable": true
   },
   "outputs": [],
   "source": [
    "# These are the \"Tableau 20\" colors as RGB.       \n",
    "tableau20 = [(31, 119, 180), (174, 199, 232), (255, 127, 14), (255, 187, 120),  \n",
    "             (44, 160, 44), (152, 223, 138), (214, 39, 40), (255, 152, 150),  \n",
    "             (148, 103, 189), (197, 176, 213), (140, 86, 75), (196, 156, 148),  \n",
    "             (227, 119, 194), (247, 182, 210), (127, 127, 127), (199, 199, 199),  \n",
    "             (188, 189, 34), (219, 219, 141), (23, 190, 207), (158, 218, 229)]\n",
    "# Scale the RGB values to the [0, 1] range, which is the format matplotlib accepts.    \n",
    "for i in range(len(tableau20)):    \n",
    "    r, g, b = tableau20[i]    \n",
    "    tableau20[i] = (r / 255., g / 255., b / 255.)  "
   ]
  },
  {
   "cell_type": "markdown",
   "metadata": {
    "deletable": true,
    "editable": true
   },
   "source": [
    "# Read data"
   ]
  },
  {
   "cell_type": "code",
   "execution_count": null,
   "metadata": {
    "deletable": true,
    "editable": true
   },
   "outputs": [],
   "source": [
    "data_paths = []\n",
    "data_paths.append( os.pardir + '/data/2016-11-10_2111_IG' )\n",
    "data_paths.append( os.pardir + '/data/2016-11-11_1356_IG' )\n",
    "data_paths.append( os.pardir + '/data/2016-11-11_2011_IG' )\n",
    "data_paths.append( os.pardir + '/data/2016-11-11_2015_IG' )\n",
    "data_paths.append( os.pardir + '/data/2016-11-12_1500_IG' )"
   ]
  },
  {
   "cell_type": "code",
   "execution_count": null,
   "metadata": {
    "deletable": true,
    "editable": true
   },
   "outputs": [],
   "source": [
    "L_set = np.array([12,14,16,18,20,22,24,26,28])\n",
    "max_t = '1000.0'\n",
    "dt = '0.1'\n",
    "T_set = np.arange(1,20)\n",
    "J = '1.0'\n",
    "K = '0.1'\n",
    "#\n",
    "temps = np.array([ 10**( -2 + 3./20 * T ) for T in T_set ])\n",
    "times = np.arange( -float(max_t),float(max_t),float(dt) )"
   ]
  },
  {
   "cell_type": "code",
   "execution_count": null,
   "metadata": {
    "deletable": true,
    "editable": true
   },
   "outputs": [],
   "source": [
    "def read_data( L_,T_ ):\n",
    "    for dpath in data_paths:\n",
    "        try:\n",
    "            filename = 'response-current_NV_L'+str(L_)+'_T'+str(T_)+'_tmax'+max_t+'_dt'+dt+'_J'+J+'_K'+K+'.json'\n",
    "            with open( dpath+'/'+filename, 'r') as file:\n",
    "                data = json.load( file, cls=jscicoding.NumericDecoder )\n",
    "            return data\n",
    "        except IOError:\n",
    "            pass\n",
    "        except ValueError:\n",
    "            # print 'corrupt data file ',dpath+'/'+filename\n",
    "            pass\n",
    "    raise IOError"
   ]
  },
  {
   "cell_type": "code",
   "execution_count": null,
   "metadata": {
    "deletable": true,
    "editable": true
   },
   "outputs": [],
   "source": [
    "def load_data( L_,T_ ):\n",
    "    # read the data file\n",
    "    try:\n",
    "        data = read_data(L_,T_)\n",
    "    except IOError:\n",
    "        print 'could not find file for ',(L,T)\n",
    "        raise IOError        \n",
    "    \n",
    "    # rearrange the data to have the time series in an easier format\n",
    "    data['xcurr'] = []\n",
    "    data['zcurr'] = []\n",
    "    for t_series in data['time_series']:\n",
    "        data['xcurr'].append(t_series['x']/L_**2)\n",
    "        data['zcurr'].append(t_series['z']/L_**2)\n",
    "\n",
    "    data['xcurr'] = np.lib.pad( data['xcurr'], (len(times)-len(data['xcurr']),0), 'constant' )\n",
    "    data['zcurr'] = np.lib.pad( data['zcurr'], (len(times)-len(data['zcurr']),0), 'constant' )\n",
    "    \n",
    "    # compute the Fourier transforms\n",
    "    data['xspectrum'] = -1j * np.fft.fft(data['xcurr'],norm='ortho')\n",
    "    data['zspectrum'] = -1j * np.fft.fft(data['zcurr'],norm='ortho')\n",
    "    \n",
    "    # compute the zero-frequency component from a direct integral\n",
    "    data['xintegral'] = spint.simps( data['xcurr'],times )\n",
    "    data['zintegral'] = spint.simps( data['zcurr'],times )\n",
    "        \n",
    "    return data"
   ]
  },
  {
   "cell_type": "code",
   "execution_count": null,
   "metadata": {
    "deletable": true,
    "editable": true
   },
   "outputs": [],
   "source": [
    "data = {}\n",
    "for L in L_set:\n",
    "    for T in T_set:\n",
    "        data[L,T] = load_data(L,T)"
   ]
  },
  {
   "cell_type": "markdown",
   "metadata": {
    "deletable": true,
    "editable": true
   },
   "source": [
    "# Analyse"
   ]
  },
  {
   "cell_type": "code",
   "execution_count": null,
   "metadata": {
    "deletable": true,
    "editable": true
   },
   "outputs": [],
   "source": [
    "L = 12\n",
    "T = 1\n",
    "\n",
    "print 'T : ',temps[T]\n",
    "fig,ax = plt.subplots()\n",
    "plt.plot( times,data[L,T]['xcurr'],',' )\n",
    "#plt.plot( times,data[L,T]['zcurr'],',' )\n",
    "plt.xlabel(r'$t$')\n",
    "plt.ylabel(r'$I$')\n",
    "\n",
    "T0 = 10\n",
    "dT0 = 10\n",
    "ax.set_xlim([T0-dT0,T0+dT0])\n",
    "\n",
    "#plt.savefig( 'quench-response-currents-lowT.pdf', bbox_inches='tight', transparency=True )\n",
    "plt.show()"
   ]
  },
  {
   "cell_type": "code",
   "execution_count": null,
   "metadata": {
    "deletable": true,
    "editable": true
   },
   "outputs": [],
   "source": [
    "for L in [28]:\n",
    "    print 'L : ',L\n",
    "    for T in T_set:\n",
    "        print 'T : ',T\n",
    "        fig,ax = plt.subplots()\n",
    "        plt.plot( times,data[L,T]['xcurr'], ',' )\n",
    "        plt.plot( times,data[L,T]['zcurr'], ',' )\n",
    "        plt.xlabel(r'$t$')\n",
    "        plt.ylabel(r'$I_x$')\n",
    "        ax.set_xlim([-5,20])\n",
    "\n",
    "        #plt.savefig( 'long_curr-curr-'+correl+'.pdf',  bbox_extra_artist=(leg,), bbox_inches='tight', transparency=True )\n",
    "        plt.show()"
   ]
  },
  {
   "cell_type": "code",
   "execution_count": null,
   "metadata": {
    "deletable": true,
    "editable": true
   },
   "outputs": [],
   "source": [
    "display = 'zspectrum'\n",
    "freqs = np.fft.fftfreq(data[L,T][display].shape[-1],float(dt))"
   ]
  },
  {
   "cell_type": "code",
   "execution_count": null,
   "metadata": {
    "deletable": true,
    "editable": true
   },
   "outputs": [],
   "source": [
    "L = 28\n",
    "T = 14\n",
    "\n",
    "fig,ax = plt.subplots()\n",
    "#plt.plot( freqs,(data[L,T][display].real),',-',color=tableau20[0] )\n",
    "plt.plot( freqs,(data[L,T][display].real * np.sign(freqs)),'-',color=tableau20[1] )\n",
    "plt.plot( freqs,(data[L,T][display].real * np.sign(freqs)),'.',color=tableau20[0],markersize=1.25 )\n",
    "plt.xlabel(r'$\\omega$')\n",
    "plt.ylabel('Re'+r'$\\left( \\, \\kappa_{xz}(\\omega) \\, / \\, |\\omega| \\, \\right)$')\n",
    "#ax.set_yscale('log')\n",
    "\n",
    "plt.savefig( 'spectral-response-X_real-highT.pdf', bbox_inches='tight', transparency=True )\n",
    "plt.show()"
   ]
  },
  {
   "cell_type": "code",
   "execution_count": null,
   "metadata": {
    "deletable": true,
    "editable": true
   },
   "outputs": [],
   "source": [
    "L = 28\n",
    "T = 14\n",
    "\n",
    "fig,ax = plt.subplots()\n",
    "#plt.plot( freqs,(data[L,T][display].real),',-',color=tableau20[0] )\n",
    "plt.plot( freqs,(data[L,T][display].imag * np.sign(freqs) ),'-',color=tableau20[1] )\n",
    "plt.plot( freqs,(data[L,T][display].imag * np.sign(freqs)),'.',color=tableau20[0],markersize=1.25 )\n",
    "plt.xlabel(r'$\\omega$')\n",
    "plt.ylabel('Im'+r'$\\left( \\, \\kappa_{xz}(\\omega) \\, / \\, |\\omega| \\, \\right)$')\n",
    "#ax.set_yscale('log')\n",
    "\n",
    "plt.savefig( 'spectral-response-X_imag-highT.pdf', bbox_inches='tight', transparency=True )\n",
    "plt.show()"
   ]
  },
  {
   "cell_type": "code",
   "execution_count": null,
   "metadata": {
    "deletable": true,
    "editable": true
   },
   "outputs": [],
   "source": [
    "for L in [28]:\n",
    "    print 'L : ',L\n",
    "    for T in T_set:\n",
    "        print 'T : ',T\n",
    "        fig,ax = plt.subplots()\n",
    "        plt.plot( freqs,(data[L,T][display].real),',-',color=tableau20[0] )\n",
    "        plt.plot( freqs,(data[L,T][display].imag),',-',color=tableau20[1] )\n",
    "        plt.xlabel(r'$\\omega$')\n",
    "        plt.ylabel(r'$\\mathcal{F} \\, [I_x]$')\n",
    "        #ax.set_yscale('log')\n",
    "\n",
    "        #plt.savefig( 'long_curr-curr-'+correl+'.pdf',  bbox_extra_artist=(leg,), bbox_inches='tight', transparency=True )\n",
    "        plt.show()"
   ]
  },
  {
   "cell_type": "code",
   "execution_count": null,
   "metadata": {
    "deletable": true,
    "editable": true
   },
   "outputs": [],
   "source": [
    "for L in [28]:\n",
    "    print 'L : ',L\n",
    "    for T in T_set:\n",
    "        print 'T : ',T\n",
    "        fig,ax = plt.subplots()\n",
    "        plt.plot( freqs,freqs*data[L,T][display].real,',-',freqs,freqs*data[L,T][display].imag,',-' )\n",
    "        plt.xlabel(r'$\\omega$')\n",
    "        plt.ylabel(r'$\\omega \\, \\mathcal{F} \\, [I_x]$')\n",
    "\n",
    "        #plt.savefig( 'long_curr-curr-'+correl+'.pdf',  bbox_extra_artist=(leg,), bbox_inches='tight', transparency=True )\n",
    "        plt.show()"
   ]
  },
  {
   "cell_type": "code",
   "execution_count": null,
   "metadata": {
    "deletable": true,
    "editable": true
   },
   "outputs": [],
   "source": [
    "fig,ax = plt.subplots()\n",
    "for L in L_set:\n",
    "    L_series = []\n",
    "    for T in T_set:\n",
    "        L_series.append( (data[L,T]['xspectrum'].imag)[0]/np.pi * L )\n",
    "    plt.plot( temps,L_series,'o-',label=r'$L=$'+str(L) )\n",
    "\n",
    "plt.plot( temps,[0. for x in temps], 'k--' )\n",
    "plt.xlabel(r'$T$')\n",
    "plt.ylabel(r'$L \\,\\cdot \\, \\mathcal{F} \\, [I_x]( \\omega = 0 )$')\n",
    "plt.legend(loc=4,fontsize=16)\n",
    "#plt.xlim([0,0.5])\n",
    "#plt.ylim([0,200])\n",
    "\n",
    "#plt.savefig( 'response-current-X.pdf', bbox_inches='tight', transparency=True )\n",
    "plt.show()"
   ]
  },
  {
   "cell_type": "code",
   "execution_count": null,
   "metadata": {
    "deletable": true,
    "editable": true
   },
   "outputs": [],
   "source": [
    "fig,ax = plt.subplots()\n",
    "for L in L_set:\n",
    "    L_series = []\n",
    "    for T in T_set:\n",
    "        L_series.append( (data[L,T]['xspectrum'].imag)[0]/np.pi * L / (np.pi*0.2) )\n",
    "    plt.plot( temps,L_series,'o-',label=r'$L=$'+str(L) )\n",
    "\n",
    "plt.plot( temps,[0. for x in temps], 'k--' )\n",
    "plt.xlabel(r'$T$')\n",
    "plt.ylabel(r'$\\kappa_{xz}(\\omega = 0) \\, T$')\n",
    "plt.legend(loc=4,fontsize=16)\n",
    "plt.xlim([0,0.5])\n",
    "#plt.ylim([0,50])\n",
    "\n",
    "#plt.savefig( 'response-current-X.pdf', bbox_inches='tight', transparency=True )\n",
    "plt.show()"
   ]
  },
  {
   "cell_type": "code",
   "execution_count": null,
   "metadata": {
    "deletable": true,
    "editable": true
   },
   "outputs": [],
   "source": [
    "fig,ax = plt.subplots()\n",
    "for L in L_set:\n",
    "    L_series = []\n",
    "    for T in T_set:\n",
    "        L_series.append( -1*(data[L,T]['zspectrum'].imag)[0]/np.pi * L  / (np.pi*0.2) )\n",
    "    plt.plot( temps,L_series,'o-',label=r'$L=$'+str(L) )\n",
    "\n",
    "plt.xlabel(r'$T$')\n",
    "plt.ylabel(r'$L \\,\\cdot \\, \\mathcal{F} \\, [I_z](\\omega = 0 )$')\n",
    "plt.legend(loc=4,fontsize=16)\n",
    "#plt.xlim([0,0.2])\n",
    "#plt.ylim([0,0.03])\n",
    "\n",
    "#plt.savefig( 'response-current-Z.pdf', bbox_inches='tight', transparency=True )\n",
    "plt.show()"
   ]
  },
  {
   "cell_type": "code",
   "execution_count": null,
   "metadata": {
    "deletable": true,
    "editable": true
   },
   "outputs": [],
   "source": [
    "fig,ax = plt.subplots()\n",
    "for L in L_set:\n",
    "    L_series = []\n",
    "    for T in T_set:\n",
    "        L_series.append( -1*(data[L,T]['zspectrum'].imag)[0]/np.pi * L  / (np.pi*0.2) )\n",
    "    plt.plot( temps,L_series,'o-',label=r'$L=$'+str(L) )\n",
    "\n",
    "plt.xlabel(r'$T$')\n",
    "plt.ylabel(r'$\\kappa_{zz}(\\omega = 0) \\, T$')\n",
    "plt.legend(loc=4,fontsize=16)\n",
    "plt.xlim([0,0.2])\n",
    "plt.ylim([0,0.0003])\n",
    "\n",
    "plt.savefig( 'response-current-Z.pdf', bbox_inches='tight', transparency=True )\n",
    "plt.show()"
   ]
  },
  {
   "cell_type": "code",
   "execution_count": null,
   "metadata": {
    "deletable": true,
    "editable": true
   },
   "outputs": [],
   "source": [
    "fig,ax = plt.subplots()\n",
    "runtimes = []\n",
    "for L in L_set:\n",
    "    max_runtime = 0.\n",
    "    for T in T_set:\n",
    "        max_runtime = max([ data[L,T]['run_time'], max_runtime ])\n",
    "    runtimes.append(max_runtime / 3600.)\n",
    "plt.plot( L_set,runtimes,'o-')\n",
    "\n",
    "plt.xlabel(r'$L$')\n",
    "plt.ylabel('run time / hours')\n",
    "plt.legend(loc=4,fontsize=16)\n",
    "#ax.set_yscale('log')\n",
    "\n",
    "#plt.savefig( 'long_curr-curr-'+correl+'.pdf',  bbox_extra_artist=(leg,), bbox_inches='tight', transparency=True )\n",
    "plt.show()"
   ]
  },
  {
   "cell_type": "code",
   "execution_count": null,
   "metadata": {
    "deletable": true,
    "editable": true
   },
   "outputs": [],
   "source": [
    "L = 16\n",
    "max_runtime = 0.\n",
    "for T in T_set:\n",
    "    max_runtime = max([ data[L,T]['run_time'], max_runtime ])\n",
    "print max_runtime/3600."
   ]
  },
  {
   "cell_type": "code",
   "execution_count": null,
   "metadata": {
    "deletable": true,
    "editable": true
   },
   "outputs": [],
   "source": [
    "fig,ax = plt.subplots()\n",
    "for L in L_set:\n",
    "    L_series = []\n",
    "    for T in T_set:\n",
    "        L_series.append( -data[L,T]['xintegral']*L )\n",
    "    plt.plot( temps,L_series,'o-',label=r'$L=$'+str(L) )\n",
    "\n",
    "plt.plot( temps,[0. for x in temps], 'k--' )\n",
    "plt.xlabel(r'$T$')\n",
    "plt.ylabel(r'$L \\,\\cdot \\, \\mathcal{F} \\, [I_x]( \\omega = 0 )$')\n",
    "plt.legend(loc=4,fontsize=16)\n",
    "#plt.xlim([0,0.5])\n",
    "#plt.ylim([0,200])\n",
    "\n",
    "#plt.savefig( 'response-current-X.pdf', bbox_inches='tight', transparency=True )\n",
    "plt.show()"
   ]
  },
  {
   "cell_type": "code",
   "execution_count": null,
   "metadata": {
    "deletable": true,
    "editable": true
   },
   "outputs": [],
   "source": [
    "fig,ax = plt.subplots()\n",
    "for L in L_set:\n",
    "    L_series = []\n",
    "    for T in T_set:\n",
    "        L_series.append( data[L,T]['zintegral'] )\n",
    "    plt.plot( temps,L_series,'o-',label=r'$L=$'+str(L) )\n",
    "\n",
    "plt.xlabel(r'$T$')\n",
    "plt.ylabel(r'$L \\,\\cdot \\, \\mathcal{F} \\, [I_z](\\omega = 0 )$')\n",
    "plt.legend(loc=4,fontsize=16)\n",
    "#plt.xlim([0,0.2])\n",
    "#plt.ylim([0,0.03])\n",
    "\n",
    "#plt.savefig( 'response-current-Z.pdf', bbox_inches='tight', transparency=True )\n",
    "plt.show()"
   ]
  },
  {
   "cell_type": "code",
   "execution_count": null,
   "metadata": {
    "deletable": true,
    "editable": true
   },
   "outputs": [],
   "source": []
  }
 ],
 "metadata": {
  "hide_input": false,
  "kernelspec": {
   "display_name": "Python 2",
   "language": "python",
   "name": "python2"
  },
  "language_info": {
   "codemirror_mode": {
    "name": "ipython",
    "version": 2
   },
   "file_extension": ".py",
   "mimetype": "text/x-python",
   "name": "python",
   "nbconvert_exporter": "python",
   "pygments_lexer": "ipython2"
  },
  "toc": {
   "toc_cell": false,
   "toc_number_sections": true,
   "toc_threshold": 6,
   "toc_window_display": false
  }
 },
 "nbformat": 4,
 "nbformat_minor": 0
}
