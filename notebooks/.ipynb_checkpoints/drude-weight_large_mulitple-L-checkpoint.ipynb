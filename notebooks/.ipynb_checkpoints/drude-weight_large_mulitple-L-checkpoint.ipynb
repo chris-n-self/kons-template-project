{
 "cells": [
  {
   "cell_type": "markdown",
   "metadata": {},
   "source": [
    "# Imports"
   ]
  },
  {
   "cell_type": "code",
   "execution_count": null,
   "metadata": {},
   "outputs": [],
   "source": [
    "# system and data handling packages\n",
    "import os\n",
    "import sys\n",
    "import json\n",
    "import csv\n",
    "import collections as col\n",
    "\n",
    "# matplotlib packages\n",
    "%matplotlib inline\n",
    "from mpl_toolkits.mplot3d import axes3d\n",
    "from matplotlib import cm\n",
    "import matplotlib.pyplot as plt\n",
    "# change figure fonts\n",
    "from matplotlib import rcParams\n",
    "\n",
    "# import jsci, CT's enhanced json stream write package\n",
    "import jsci\n",
    "from jsci import WriteStream as jsciwrite\n",
    "from jsci import Coding as jscicoding\n",
    "\n",
    "# numpy\n",
    "import numpy as np\n",
    "from scipy.interpolate import interp1d\n",
    "import scipy as sp\n",
    "from scipy import stats\n",
    "from scipy.optimize import curve_fit\n",
    "import scipy.integrate as spint\n",
    "from numpy import fft as npft\n",
    "\n",
    "# import Kitaev Honeycomb package\n",
    "import kithcmb\n",
    "from kithcmb import ThermalGradient as vs"
   ]
  },
  {
   "cell_type": "code",
   "execution_count": null,
   "metadata": {},
   "outputs": [],
   "source": [
    "plt.style.use('prettyfigs')"
   ]
  },
  {
   "cell_type": "code",
   "execution_count": null,
   "metadata": {},
   "outputs": [],
   "source": [
    "# These are the \"Tableau 20\" colors as RGB.       \n",
    "tableau20 = [(31, 119, 180),(44, 160, 44),(255, 127, 14), \n",
    "             (214, 39, 40),  \n",
    "             (148, 103, 189),(140, 86, 75),\n",
    "             (227, 119, 194),(127, 127, 127),\n",
    "             (188, 189, 34),(23, 190, 207),]   \n",
    "# Scale the RGB values to the [0, 1] range, which is the format matplotlib accepts.    \n",
    "for i in range(len(tableau20)):    \n",
    "    r, g, b = tableau20[i]    \n",
    "    tableau20[i] = (r / 255., g / 255., b / 255.)  "
   ]
  },
  {
   "cell_type": "markdown",
   "metadata": {},
   "source": [
    "# Read data"
   ]
  },
  {
   "cell_type": "code",
   "execution_count": null,
   "metadata": {},
   "outputs": [],
   "source": [
    "data_paths = []\n",
    "data_paths.append( os.pardir + '/data/cyl/2016-10-10_1345_cII' )"
   ]
  },
  {
   "cell_type": "code",
   "execution_count": null,
   "metadata": {},
   "outputs": [],
   "source": [
    "L = 6\n",
    "min_t = [ str(t) for t in np.arange(0,1000,100) ]\n",
    "len_t = '100'\n",
    "dt = '0.1'\n",
    "times = np.arange( 0.,float(min_t[-1])+float(len_t),float(dt) )\n",
    "correl_set = [ 'xx', 'xz','zx','zz' ]\n",
    "T_set = np.arange(1,20)"
   ]
  },
  {
   "cell_type": "code",
   "execution_count": null,
   "metadata": {},
   "outputs": [],
   "source": [
    "def read_data( L_,correl_,T_,min_t_ ):\n",
    "    for dpath in data_paths:\n",
    "        try:\n",
    "            with open( dpath+'/IIcorrel_NV_L'+str(L_)+'_T'+str(T_)+'_tmin'+min_t_+'_tlen'+len_t+'_dt'+dt+'_II'+correl_+'.json', 'r') as file:\n",
    "                data = json.load( file, cls=jscicoding.NumericDecoder )\n",
    "            return data\n",
    "        except IOError:\n",
    "            pass\n",
    "        except ValueError:\n",
    "            print 'corrupt data file ',dpath+'/IIcorrel_NV_L'+str(L_)+'_T'+str(T_)+'_tmin'+min_t_+'_tlen'+len_t+'_dt'+dt+'_II'+correl_+'.json'\n",
    "            pass\n",
    "    raise IOError"
   ]
  },
  {
   "cell_type": "code",
   "execution_count": null,
   "metadata": {},
   "outputs": [],
   "source": [
    "def load_data( L_,correl_,T_ ):\n",
    "    # use the first min_t as the base object\n",
    "    try:\n",
    "        print 'loading times ',min_t[0],' to ',str(float(min_t[0])+float(len_t))\n",
    "        data = read_data(L_,correl_,T_,min_t[0])\n",
    "    except IOError:\n",
    "        raise IOError\n",
    "        \n",
    "    # append the time-series from the other files\n",
    "    for mt in min_t[1:]:\n",
    "        try:\n",
    "            print 'loading times ',mt,' to ',str(float(mt)+float(len_t))\n",
    "            new_data = read_data(L_,correl_,T_,mt)\n",
    "        except IOError:\n",
    "            raise IOError\n",
    "        data[\"current-current-correlations\"] = np.append(data[\"current-current-correlations\"],new_data[\"current-current-correlations\"])\n",
    "        \n",
    "    \n",
    "    # integrate up to t3 for a range of t3\n",
    "    try:\n",
    "        print 'integrating drude weights'\n",
    "        t1 = 500\n",
    "        data['t2'] = times[2*t1:]\n",
    "        data['drude'] = []\n",
    "        for t2 in range(2*t1,len(times)):\n",
    "            data['drude'].append( spint.simps( np.real(data['current-current-correlations'])[:t2] / ( times[t2] - times[t1]), times[:t2] ) )\n",
    "    except ValueError:\n",
    "        print 'Error integrating drude weight'\n",
    "\n",
    "    return data"
   ]
  },
  {
   "cell_type": "code",
   "execution_count": null,
   "metadata": {},
   "outputs": [],
   "source": [
    "data = {}\n",
    "for correl in correl_set:\n",
    "    print 'reading ',correl\n",
    "    for T in T_set:\n",
    "        print 'T : ',T\n",
    "        try:\n",
    "            data[correl,T] = load_data(L,correl,T)\n",
    "        except IOError:\n",
    "            print 'could not find file : ',(correl,T)"
   ]
  },
  {
   "cell_type": "markdown",
   "metadata": {},
   "source": [
    "# Analyse"
   ]
  },
  {
   "cell_type": "code",
   "execution_count": null,
   "metadata": {},
   "outputs": [],
   "source": [
    "for correl in correl_set:\n",
    "    print 'correl : ',correl\n",
    "    fig,ax = plt.subplots()\n",
    "    \n",
    "    for T in T_set:\n",
    "        #print 'T : ',data[correl,T]['specification']['T']\n",
    "        plt.plot( times, 1./L**2 * np.real(data[correl,T]['current-current-correlations']), ',-', label=r'$T=$'+'{:.2g}'.format(data[correl,T]['specification']['T']), markersize=1.5 )\n",
    "        \n",
    "    #plt.xlim([-0.5,10.])\n",
    "    leg = plt.legend( loc=4, fontsize=16, bbox_to_anchor=(1.32,0.) )\n",
    "    plt.xlabel(r'$t$')\n",
    "    plt.ylabel(r'$\\langle \\, J(t) \\, J \\, \\rangle$')\n",
    "    \n",
    "    #plt.savefig( 'long_curr-curr-'+correl+'.pdf',  bbox_extra_artist=(leg,), bbox_inches='tight', transparency=True )\n",
    "    plt.show()"
   ]
  },
  {
   "cell_type": "code",
   "execution_count": null,
   "metadata": {},
   "outputs": [],
   "source": [
    "for correl in correl_set:\n",
    "    print 'correl : ',correl\n",
    "    fig,ax = plt.subplots()\n",
    "    \n",
    "    for T in T_set:\n",
    "        # plot C_E as a function of t3\n",
    "        plt.plot( data[correl,T]['t2'],1./L**2 * np.real(data[correl,T]['drude']), '-', label=r'$T=$'+'{:.2g}'.format(data[correl,T]['specification']['T']), markersize=4 )\n",
    "        # plot the average\n",
    "        #CE_avg = 1./L * np.mean( np.real(data[correl,T]['drude'])/data[correl,T]['specification']['T'] )\n",
    "        #plt.plot( [0,100],[CE_avg,CE_avg], '--', label=r'MEAN $T=$'+'{:.2g}'.format(data[correl,T]['specification']['T']), color=tableau20[T_index], linewidth=3. )\n",
    "        \n",
    "    # plt.xlim([100,150])\n",
    "    leg = plt.legend( loc=4, fontsize=16, bbox_to_anchor=(1.33,0.) )\n",
    "    plt.xlabel(r'$t_2$')\n",
    "    plt.ylabel(r'$\\overline{C_E}(t_2)$')\n",
    "    plt.savefig( 'drude-'+correl+'_vs_t2.pdf',  bbox_extra_artist=(leg,), bbox_inches='tight', transparency=True )\n",
    "    plt.show()"
   ]
  },
  {
   "cell_type": "code",
   "execution_count": null,
   "metadata": {},
   "outputs": [],
   "source": [
    "plot_CE_avg = {}\n",
    "for correl in correl_set:\n",
    "    print 'correl : ',correl\n",
    "    \n",
    "    plot_CE_avg[correl] = {}\n",
    "    for T_index,T in enumerate(T_set):\n",
    "\n",
    "        # get the average\n",
    "        plot_CE_avg[correl][data[correl,T]['specification']['T']] = ( 1./L**2 * np.real(np.mean(data[correl,T]['drude'][int(len(data[correl,T]['drude'])*9/10):])) )\n",
    "\n",
    "    fig,ax = plt.subplots()\n",
    "    \n",
    "    sorted_T = []\n",
    "    sorted_CEbar = []\n",
    "    for key in sorted(plot_CE_avg[correl]):\n",
    "        sorted_T.append(float(key))\n",
    "        sorted_CEbar.append(float(plot_CE_avg[correl][key]))\n",
    "    \n",
    "    plt.plot( sorted_T,sorted_CEbar, '.-' )\n",
    "\n",
    "    #plt.plot( np.sort(plot_CE_avg[correl].keys()), 1.1/np.array(np.sort(plot_CE_avg[correl].keys())) )\n",
    "    \n",
    "    ax.set_xscale('log')\n",
    "    # ax.set_yscale('log')\n",
    "    plt.xlabel(r'$T$')\n",
    "    plt.ylabel(r'$\\overline{C_E}$')\n",
    "    \n",
    "    #plt.savefig( 'drude'+correl+'_vs_T.pdf', bbox_inches='tight', transparency=True )\n",
    "    plt.show()"
   ]
  },
  {
   "cell_type": "code",
   "execution_count": null,
   "metadata": {},
   "outputs": [],
   "source": []
  }
 ],
 "metadata": {
  "hide_input": false,
  "kernelspec": {
   "display_name": "Python 2",
   "language": "python",
   "name": "python2"
  },
  "language_info": {
   "codemirror_mode": {
    "name": "ipython",
    "version": 2
   },
   "file_extension": ".py",
   "mimetype": "text/x-python",
   "name": "python",
   "nbconvert_exporter": "python",
   "pygments_lexer": "ipython2"
  },
  "toc": {
   "toc_cell": false,
   "toc_number_sections": true,
   "toc_threshold": 6,
   "toc_window_display": false
  }
 },
 "nbformat": 4,
 "nbformat_minor": 0
}
