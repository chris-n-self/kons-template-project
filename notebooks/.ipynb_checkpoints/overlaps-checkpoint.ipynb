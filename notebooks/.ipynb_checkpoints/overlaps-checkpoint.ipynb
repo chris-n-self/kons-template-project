{
 "cells": [
  {
   "cell_type": "markdown",
   "metadata": {},
   "source": [
    "# Import libraries"
   ]
  },
  {
   "cell_type": "code",
   "execution_count": null,
   "metadata": {},
   "outputs": [],
   "source": [
    "import os\n",
    "import sys\n",
    "import json\n",
    "import csv\n",
    "\n",
    "# numeric, scientific\n",
    "from scipy import linalg as spla\n",
    "import numpy as np\n",
    "\n",
    "# plotting\n",
    "%matplotlib inline\n",
    "import matplotlib\n",
    "from mpl_toolkits.mplot3d import axes3d\n",
    "from matplotlib import cm\n",
    "import matplotlib.pyplot as plt\n",
    "\n",
    "# import Kitaev Honeycomb package\n",
    "import kithcmb\n",
    "from kithcmb import ThermalGradient as vs\n",
    "\n",
    "# import jsci, CT's enhanced json stream write package\n",
    "import jsci\n",
    "from jsci import WriteStream as jsciwrite\n",
    "from jsci import Coding as jscicoding"
   ]
  },
  {
   "cell_type": "code",
   "execution_count": null,
   "metadata": {},
   "outputs": [],
   "source": [
    "plt.style.use('prettyfigs')"
   ]
  },
  {
   "cell_type": "markdown",
   "metadata": {},
   "source": [
    "# Define functions"
   ]
  },
  {
   "cell_type": "markdown",
   "metadata": {},
   "source": [
    "Plot the real and imaginary parts of a complex matrix next to each other"
   ]
  },
  {
   "cell_type": "code",
   "execution_count": null,
   "metadata": {},
   "outputs": [],
   "source": [
    "def draw_real_imag_matrix(matrix_):\n",
    "    plt.figure( figsize=(18,8) )\n",
    "\n",
    "    plt.subplot(1, 2, 1)\n",
    "    plt.imshow( np.real(matrix_).tolist() )\n",
    "    plt.colorbar()\n",
    "\n",
    "    plt.subplot(1, 2, 2)\n",
    "    plt.imshow( np.imag(matrix_).tolist() )\n",
    "    plt.colorbar()\n",
    "\n",
    "    plt.show()"
   ]
  },
  {
   "cell_type": "markdown",
   "metadata": {},
   "source": [
    "These functions show the spatial support of a given eigenstate over the honeycomb. The probability (mod squared amplitude) of the eigenstate at each black and white site is added together to give a square lattice of sites. \n",
    "\n",
    "The final function plots the spatial profile of the two eigenstates that together compose a single mode. (Near the middle of the spectrum, where you get extra degeneracy this might not work right.)"
   ]
  },
  {
   "cell_type": "code",
   "execution_count": null,
   "metadata": {},
   "outputs": [],
   "source": [
    "def get_spatial_matrix_elements(full_eigeninfo,state_,site_):\n",
    "    return ( full_eigeninfo[1][site_+1][state_]*np.conjugate(full_eigeninfo[1][site_+1][state_]) + full_eigeninfo[1][site_][state_]*np.conjugate(full_eigeninfo[1][site_][state_]) )\n",
    "    \n",
    "def draw_spatial_eigenstate(full_eigeninfo,state_):\n",
    "    spatial_eigenstate = [ [ get_spatial_matrix_elements(full_eigeninfo,state_,x + (y-1)*L ) for x in range(0,2*L,2) ] for y in range(L) ]\n",
    "    draw_real_imag_matrix(spatial_eigenstate)\n",
    "    \n",
    "def draw_pair_states(full_eigeninfo,state_):\n",
    "    # print full_eigeninfo[0][state_],' ',full_eigeninfo[0][2*L**2 -1 -state_]\n",
    "    state1 = [ [ get_spatial_matrix_elements(full_eigeninfo,state_,x + (y-1)*2*L ) for x in range(0,2*L,2) ] for y in range(1,L+1) ]\n",
    "    state2 = [ [ get_spatial_matrix_elements(full_eigeninfo,2*L**2 -1 -state_,x + (y-1)*2*L ) for x in range(0,2*L,2) ] for y in range(1,L+1) ]\n",
    "    \n",
    "    plt.figure( figsize=(18,8) )\n",
    "\n",
    "    plt.subplot(1, 2, 1)\n",
    "    plt.imshow( np.real(state1).tolist(), cmap='BuPu' )\n",
    "    plt.colorbar()\n",
    "\n",
    "    plt.subplot(1, 2, 2)\n",
    "    plt.imshow( np.real(state2).tolist(), cmap='BuPu' )\n",
    "    plt.colorbar()\n",
    "\n",
    "    plt.show()"
   ]
  },
  {
   "cell_type": "markdown",
   "metadata": {},
   "source": [
    "# Set system parameters and initialise "
   ]
  },
  {
   "cell_type": "code",
   "execution_count": null,
   "metadata": {},
   "outputs": [],
   "source": [
    "L = 20\n",
    "J = 1.\n",
    "kappa = 0.1"
   ]
  },
  {
   "cell_type": "code",
   "execution_count": null,
   "metadata": {},
   "outputs": [],
   "source": [
    "kh_sys = vs.ThermalGradient(L,J,kappa,d_psi=0.1)\n",
    "#kh_sys.set_full_vortex_sector()\n",
    "#kh_sys.set_tri_vortex_lattice( 2 )\n",
    "#kh_sys.disable_three_body_terms()"
   ]
  },
  {
   "cell_type": "code",
   "execution_count": null,
   "metadata": {},
   "outputs": [],
   "source": [
    "print 'UX'\n",
    "plt.figure( figsize=(10,10) )\n",
    "plt.imshow(kh_sys.Ux,interpolation='nearest',cmap='viridis')\n",
    "plt.colorbar()\n",
    "plt.show()\n",
    "\n",
    "print 'UY'\n",
    "plt.figure( figsize=(10,10) )\n",
    "plt.imshow(kh_sys.Ux,interpolation='nearest',cmap='viridis')\n",
    "plt.colorbar()\n",
    "plt.show()\n",
    "\n",
    "print 'UZ'\n",
    "plt.figure( figsize=(10,10) )\n",
    "plt.imshow(kh_sys.Uz,interpolation='nearest',cmap='viridis')\n",
    "plt.colorbar()\n",
    "plt.show()"
   ]
  },
  {
   "cell_type": "code",
   "execution_count": null,
   "metadata": {},
   "outputs": [],
   "source": [
    "print 'JX'\n",
    "plt.figure( figsize=(10,10) )\n",
    "plt.imshow(kh_sys.Jx,interpolation='nearest',cmap='viridis')\n",
    "plt.colorbar()\n",
    "plt.show()\n",
    "\n",
    "print 'JY'\n",
    "plt.figure( figsize=(10,10) )\n",
    "plt.imshow(kh_sys.Jx,interpolation='nearest',cmap='viridis')\n",
    "plt.colorbar()\n",
    "plt.show()\n",
    "\n",
    "print 'JZ'\n",
    "plt.figure( figsize=(10,10) )\n",
    "plt.imshow(kh_sys.Jx,interpolation='nearest',cmap='viridis')\n",
    "plt.colorbar()\n",
    "plt.show()"
   ]
  },
  {
   "cell_type": "markdown",
   "metadata": {},
   "source": [
    "Print the A matrix"
   ]
  },
  {
   "cell_type": "code",
   "execution_count": null,
   "metadata": {},
   "outputs": [],
   "source": [
    "plt.figure( figsize=(10,10) )\n",
    "plt.imshow( (kh_sys.A - np.transpose(kh_sys.A)) ,interpolation='nearest',cmap='RdBu')\n",
    "plt.colorbar()\n",
    "plt.show()"
   ]
  },
  {
   "cell_type": "markdown",
   "metadata": {},
   "source": [
    "Ouput the A matrix"
   ]
  },
  {
   "cell_type": "code",
   "execution_count": null,
   "metadata": {},
   "outputs": [],
   "source": [
    "np.savetxt( \"grad_A_matrix.csv\",kh_sys.A - np.transpose(kh_sys.A), delimiter=\",\" )"
   ]
  },
  {
   "cell_type": "markdown",
   "metadata": {},
   "source": [
    "Plot the spectrum"
   ]
  },
  {
   "cell_type": "code",
   "execution_count": null,
   "metadata": {},
   "outputs": [],
   "source": [
    "plt.figure( figsize=(14,15) )\n",
    "plt.plot(kh_sys.spectrum,'.')"
   ]
  },
  {
   "cell_type": "markdown",
   "metadata": {},
   "source": [
    "# Tests on A\n",
    "Is iA hermitian?"
   ]
  },
  {
   "cell_type": "code",
   "execution_count": null,
   "metadata": {},
   "outputs": [],
   "source": [
    "A = 1j*(kh_sys.A - np.transpose(kh_sys.A))"
   ]
  },
  {
   "cell_type": "markdown",
   "metadata": {},
   "source": [
    "# Mode occupations"
   ]
  },
  {
   "cell_type": "code",
   "execution_count": null,
   "metadata": {},
   "outputs": [],
   "source": [
    "ferm_occs = kh_sys.get_fermionic_expectation_values(1./10**-6)\n",
    "\n",
    "print 'particle'\n",
    "plt.plot(np.exp(ferm_occs[1]))\n",
    "\n",
    "print 'hole'\n",
    "plt.plot(np.exp(ferm_occs[2]))\n",
    "\n",
    "print 'np.min(np.exp(ferm_occs[1])) : ',np.min(np.exp(ferm_occs[1]))\n",
    "print 'np.max(np.exp(ferm_occs[2])) : ',np.max(np.exp(ferm_occs[2]))\n",
    "\n",
    "plt.ylim([-0.1,1.1])"
   ]
  },
  {
   "cell_type": "markdown",
   "metadata": {},
   "source": [
    "# Correlation matrix"
   ]
  },
  {
   "cell_type": "code",
   "execution_count": null,
   "metadata": {},
   "outputs": [],
   "source": [
    "correl_mat = kh_sys.get_correlation_matrix(1./ 10**-10 )"
   ]
  },
  {
   "cell_type": "code",
   "execution_count": null,
   "metadata": {},
   "outputs": [],
   "source": [
    "print 'REAL'\n",
    "plt.figure( figsize=(10,10) )\n",
    "plt.imshow( np.real(correl_mat),interpolation='nearest',cmap='viridis')\n",
    "plt.colorbar()\n",
    "plt.show()\n",
    "\n",
    "print 'IMAG'\n",
    "plt.figure( figsize=(10,10) )\n",
    "plt.imshow( np.imag(correl_mat),interpolation='nearest',cmap='viridis')\n",
    "plt.colorbar()\n",
    "plt.show()"
   ]
  }
 ],
 "metadata": {
  "hide_input": false,
  "kernelspec": {
   "display_name": "Python 2",
   "language": "python",
   "name": "python2"
  },
  "language_info": {
   "codemirror_mode": {
    "name": "ipython",
    "version": 2
   },
   "file_extension": ".py",
   "mimetype": "text/x-python",
   "name": "python",
   "nbconvert_exporter": "python",
   "pygments_lexer": "ipython2"
  },
  "notify_time": "30",
  "toc": {
   "toc_cell": false,
   "toc_number_sections": true,
   "toc_threshold": 6,
   "toc_window_display": false
  }
 },
 "nbformat": 4,
 "nbformat_minor": 0
}
