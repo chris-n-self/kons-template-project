{
 "cells": [
  {
   "cell_type": "markdown",
   "metadata": {},
   "source": [
    "# Imports"
   ]
  },
  {
   "cell_type": "code",
   "execution_count": null,
   "metadata": {},
   "outputs": [],
   "source": [
    "# system and data handling packages\n",
    "import os\n",
    "import sys\n",
    "import json\n",
    "import csv\n",
    "\n",
    "# matplotlib packages\n",
    "%matplotlib inline\n",
    "from mpl_toolkits.mplot3d import axes3d\n",
    "from matplotlib import cm\n",
    "import matplotlib.pyplot as plt\n",
    "# change figure fonts\n",
    "from matplotlib import rcParams\n",
    "\n",
    "# import jsci, CT's enhanced json stream write package\n",
    "import jsci\n",
    "from jsci import WriteStream as jsciwrite\n",
    "from jsci import Coding as jscicoding\n",
    "\n",
    "# numpy\n",
    "import numpy as np\n",
    "from scipy.interpolate import interp1d\n",
    "import scipy as sp\n",
    "from scipy import stats\n",
    "from scipy.optimize import curve_fit\n",
    "import scipy.integrate as spint\n",
    "from numpy import fft as npft\n",
    "\n",
    "# import Kitaev Honeycomb package\n",
    "import kithcmb\n",
    "from kithcmb import ThermalGradient as vs"
   ]
  },
  {
   "cell_type": "code",
   "execution_count": null,
   "metadata": {},
   "outputs": [],
   "source": [
    "plt.style.use('prettyfigs')"
   ]
  },
  {
   "cell_type": "code",
   "execution_count": null,
   "metadata": {},
   "outputs": [],
   "source": [
    "# These are the \"Tableau 20\" colors as RGB.       \n",
    "tableau20 = [(31, 119, 180),(44, 160, 44),(255, 127, 14), \n",
    "             (214, 39, 40),  \n",
    "             (148, 103, 189),(140, 86, 75),\n",
    "             (227, 119, 194),(127, 127, 127),\n",
    "             (188, 189, 34),(23, 190, 207),]   \n",
    "# Scale the RGB values to the [0, 1] range, which is the format matplotlib accepts.    \n",
    "for i in range(len(tableau20)):    \n",
    "    r, g, b = tableau20[i]    \n",
    "    tableau20[i] = (r / 255., g / 255., b / 255.)  "
   ]
  },
  {
   "cell_type": "markdown",
   "metadata": {},
   "source": [
    "# Read data"
   ]
  },
  {
   "cell_type": "code",
   "execution_count": null,
   "metadata": {},
   "outputs": [],
   "source": [
    "data_paths = []\n",
    "data_paths.append( os.pardir + '/data/2016-08-11_1317_curr-curr-correls' )"
   ]
  },
  {
   "cell_type": "code",
   "execution_count": null,
   "metadata": {},
   "outputs": [],
   "source": [
    "L = 16\n",
    "maxt = '1000'\n",
    "dt = '0.1'\n",
    "times = np.arange( 0.,1000.,0.1 )\n",
    "correl_set = [ 'xz','zz' ]\n",
    "T_set = 1 + np.arange(0,20)"
   ]
  },
  {
   "cell_type": "code",
   "execution_count": null,
   "metadata": {},
   "outputs": [],
   "source": [
    "def read_data( correl_,T_ ):\n",
    "    for dpath in data_paths:\n",
    "        rel_path = dpath+'/L_'+str(L)+'/maxt_'+str(maxt)+'_dt_'+str(dt)+'/II_'+correl_+'/T_'+str(T_)\n",
    "        try:\n",
    "            # base the data object on the first process's data file\n",
    "            with open( rel_path+'/IIcorrel_NV_L'+str(L)+'_T'+str(T_)+'_tmax'+maxt+'_dt'+dt+'_II'+correl_+'.json', 'r') as file:\n",
    "                data = json.load( file, cls=jscicoding.NumericDecoder )\n",
    "\n",
    "            # integrate up to t3 for a range of t3\n",
    "            data['t3'] = times[2:]\n",
    "            data['t3_integral'] = []\n",
    "            for t3 in range(2,len(times)):\n",
    "                data['t3_integral'].append( spint.simps( np.real(data['current-current-correlations'])[:t3], times[:t3] ) )\n",
    "            \n",
    "            return data\n",
    "        except IOError:\n",
    "            pass\n",
    "        except ValueError:\n",
    "            print 'corrupt data file ',rel_path+'/LatFatt_NV_L'+str(L_)+'_T'+str(p_)+'.json'\n",
    "\n",
    "    raise IOError"
   ]
  },
  {
   "cell_type": "code",
   "execution_count": null,
   "metadata": {},
   "outputs": [],
   "source": [
    "data = {}\n",
    "for correl in correl_set:\n",
    "    for T in T_set:\n",
    "        try:\n",
    "            data[correl,T] = read_data(correl,T)\n",
    "        except IOError:\n",
    "            print 'could not find file : ',(correl,T)"
   ]
  },
  {
   "cell_type": "markdown",
   "metadata": {},
   "source": [
    "# Analyse"
   ]
  },
  {
   "cell_type": "code",
   "execution_count": null,
   "metadata": {},
   "outputs": [],
   "source": [
    "for correl in correl_set:\n",
    "    print 'correl : ',correl\n",
    "    fig,ax = plt.subplots()\n",
    "    \n",
    "    for T in T_set:\n",
    "        #print 'T : ',data[correl,T]['specification']['T']\n",
    "        plt.plot( times,np.real(data[correl,T]['current-current-correlations'])/L, ',-', label=r'$T=$'+'{:.2g}'.format(data[correl,T]['specification']['T']) )\n",
    "        \n",
    "    plt.xlim([-0.5,1000.])\n",
    "    leg = plt.legend( loc=4, fontsize=16, bbox_to_anchor=(1.32,0.) )\n",
    "    plt.xlabel(r'$t$')\n",
    "    plt.ylabel(r'$\\langle \\, J(t) \\, J \\, \\rangle$')\n",
    "    \n",
    "    plt.savefig( 'curr-curr-'+correl+'.pdf',  bbox_extra_artist=(leg,), bbox_inches='tight', transparency=True )\n",
    "    plt.show()"
   ]
  },
  {
   "cell_type": "code",
   "execution_count": null,
   "metadata": {},
   "outputs": [],
   "source": [
    "for correl in correl_set:\n",
    "    print 'correl : ',correl\n",
    "    fig,ax = plt.subplots()\n",
    "    \n",
    "    for T_index,T in enumerate(T_set):\n",
    "        # plot C_E as a function of t3\n",
    "        plt.plot( data[correl,T]['t3'],np.real(data[correl,T]['t3_integral'])/data[correl,T]['specification']['T'], '.', label=r'$T=$'+'{:.2g}'.format(data[correl,T]['specification']['T']), color=tableau20[T_index], markersize=3 )\n",
    "        # plot the average\n",
    "        CE_avg = np.mean( np.real(data[correl,T]['t3_integral'])/data[correl,T]['specification']['T'] )\n",
    "        plt.plot( [0,100],[CE_avg,CE_avg], '--', label=r'MEAN $T=$'+'{:.2g}'.format(data[correl,T]['specification']['T']), color=tableau20[T_index], linewidth=3. )\n",
    "        \n",
    "    #plt.xlim([-0.5,10])\n",
    "    leg = plt.legend( loc=4, fontsize=16, bbox_to_anchor=(1.47,0.) )\n",
    "    plt.xlabel(r'$t_3$')\n",
    "    plt.ylabel(r'$C_E(t_3)$')\n",
    "    plt.savefig( 'CE-'+correl+'_vs_t3.pdf',  bbox_extra_artist=(leg,), bbox_inches='tight', transparency=True )\n",
    "    plt.show()"
   ]
  },
  {
   "cell_type": "code",
   "execution_count": null,
   "metadata": {},
   "outputs": [],
   "source": [
    "sorted_T"
   ]
  },
  {
   "cell_type": "code",
   "execution_count": null,
   "metadata": {},
   "outputs": [],
   "source": [
    "plot_CE_avg = {}\n",
    "for correl in correl_set:\n",
    "    print 'correl : ',correl\n",
    "    \n",
    "    plot_CE_avg[correl] = {}\n",
    "    for T_index,T in enumerate(T_set):\n",
    "\n",
    "        # get the average\n",
    "        plot_CE_avg[correl][data[correl,T]['specification']['T']] = np.mean( np.real(data[correl,T]['t3_integral'])/data[correl,T]['specification']['T'] )\n",
    "\n",
    "    fig,ax = plt.subplots()\n",
    "    \n",
    "    sorted_T = []\n",
    "    sorted_CEbar = []\n",
    "    for key in sorted(plot_CE_avg[correl]):\n",
    "        sorted_T.append(float(key))\n",
    "        sorted_CEbar.append(float(plot_CE_avg[correl][key]))\n",
    "    \n",
    "    plt.plot( sorted_T,sorted_CEbar, '.-' )\n",
    "\n",
    "    #plt.plot( np.sort(plot_CE_avg[correl].keys()), 1.1/np.array(np.sort(plot_CE_avg[correl].keys())) )\n",
    "    \n",
    "    ax.set_xscale('log')\n",
    "    ax.set_yscale('log')\n",
    "    plt.xlabel(r'$T$')\n",
    "    plt.ylabel(r'$\\overline{C_E}$')\n",
    "    \n",
    "    plt.savefig( 'avgCE'+correl+'_vs_T.pdf', bbox_inches='tight', transparency=True )\n",
    "    plt.show()"
   ]
  },
  {
   "cell_type": "code",
   "execution_count": null,
   "metadata": {},
   "outputs": [],
   "source": []
  }
 ],
 "metadata": {
  "hide_input": false,
  "kernelspec": {
   "display_name": "Python 2",
   "language": "python",
   "name": "python2"
  },
  "language_info": {
   "codemirror_mode": {
    "name": "ipython",
    "version": 2
   },
   "file_extension": ".py",
   "mimetype": "text/x-python",
   "name": "python",
   "nbconvert_exporter": "python",
   "pygments_lexer": "ipython2"
  },
  "toc": {
   "toc_cell": false,
   "toc_number_sections": true,
   "toc_threshold": 6,
   "toc_window_display": false
  }
 },
 "nbformat": 4,
 "nbformat_minor": 0
}
