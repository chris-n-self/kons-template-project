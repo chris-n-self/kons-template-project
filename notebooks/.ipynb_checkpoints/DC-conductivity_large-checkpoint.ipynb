{
 "cells": [
  {
   "cell_type": "markdown",
   "metadata": {},
   "source": [
    "# Imports"
   ]
  },
  {
   "cell_type": "code",
   "execution_count": null,
   "metadata": {},
   "outputs": [],
   "source": [
    "# system and data handling packages\n",
    "import os\n",
    "import sys\n",
    "import json\n",
    "import csv\n",
    "import collections as col\n",
    "\n",
    "# matplotlib packages\n",
    "%matplotlib inline\n",
    "from mpl_toolkits.mplot3d import axes3d\n",
    "from matplotlib import cm\n",
    "import matplotlib.pyplot as plt\n",
    "# change figure fonts\n",
    "from matplotlib import rcParams\n",
    "\n",
    "# import jsci, CT's enhanced json stream write package\n",
    "import jsci\n",
    "from jsci import WriteStream as jsciwrite\n",
    "from jsci import Coding as jscicoding\n",
    "\n",
    "# numpy\n",
    "import numpy as np\n",
    "from scipy.interpolate import interp1d\n",
    "import scipy as sp\n",
    "from scipy import stats\n",
    "from scipy.optimize import curve_fit\n",
    "import scipy.integrate as spint\n",
    "from numpy import fft as npft\n",
    "\n",
    "# import Kitaev Honeycomb package\n",
    "import kithcmb\n",
    "from kithcmb import ThermalGradient as vs"
   ]
  },
  {
   "cell_type": "code",
   "execution_count": null,
   "metadata": {},
   "outputs": [],
   "source": [
    "plt.style.use('prettyfigs')"
   ]
  },
  {
   "cell_type": "code",
   "execution_count": null,
   "metadata": {},
   "outputs": [],
   "source": [
    "# These are the \"Tableau 20\" colors as RGB.       \n",
    "tableau20 = [(31, 119, 180),(44, 160, 44),(255, 127, 14), \n",
    "             (214, 39, 40),  \n",
    "             (148, 103, 189),(140, 86, 75),\n",
    "             (227, 119, 194),(127, 127, 127),\n",
    "             (188, 189, 34),(23, 190, 207),]   \n",
    "# Scale the RGB values to the [0, 1] range, which is the format matplotlib accepts.    \n",
    "for i in range(len(tableau20)):    \n",
    "    r, g, b = tableau20[i]    \n",
    "    tableau20[i] = (r / 255., g / 255., b / 255.)  "
   ]
  },
  {
   "cell_type": "markdown",
   "metadata": {},
   "source": [
    "# Read data"
   ]
  },
  {
   "cell_type": "code",
   "execution_count": null,
   "metadata": {},
   "outputs": [],
   "source": [
    "data_paths = []\n",
    "data_paths.append( os.pardir + '/data/cyl/2016-10-05_1354cII' )"
   ]
  },
  {
   "cell_type": "code",
   "execution_count": null,
   "metadata": {},
   "outputs": [],
   "source": [
    "L = 18\n",
    "min_t = [ str(t) for t in np.arange(0,100,100) ]\n",
    "len_t = '100'\n",
    "dt = '0.1'\n",
    "times = np.arange( 0.,float(min_t[-1]),float(dt) )\n",
    "correl_set = [ 'xx','zx','xz','zz' ]\n",
    "T_set = 1 + np.arange(0,20)"
   ]
  },
  {
   "cell_type": "code",
   "execution_count": null,
   "metadata": {},
   "outputs": [],
   "source": [
    "def read_data( L_,correl_,T_,min_t_ ):\n",
    "    for dpath in data_paths:\n",
    "        try:\n",
    "            with open( dpath+'/IIcorrel_NV_L'+str(L_)+'_T'+str(T_)+'_tmin'+min_t_+'_tlen'+len_t+'_dt'+dt+'_II'+correl_+'.json', 'r') as file:\n",
    "                data = json.load( file, cls=jscicoding.NumericDecoder )\n",
    "            return data\n",
    "        except IOError:\n",
    "            pass\n",
    "        except ValueError:\n",
    "            print 'corrupt data file ',rel_path+'/IIcorrel_NV_L'+str(L)+'_T'+str(T_)+'_tmax'+maxt+'_dt'+dt+'_II'+correl_+'.json'\n",
    "            pass\n",
    "    raise IOError"
   ]
  },
  {
   "cell_type": "code",
   "execution_count": null,
   "metadata": {},
   "outputs": [],
   "source": [
    "def load_data( L_,correl_,T_ ):\n",
    "    # use the first min_t as the base object\n",
    "    try:\n",
    "        data = read_data(L_,correl_,T_,min_t[0])\n",
    "    except IOError:\n",
    "        raise IOError\n",
    "    \n",
    "        # integrate up to t3 for a range of t3\n",
    "    data['t3'] = times[2:]\n",
    "    data['t3_integral'] = []\n",
    "    for t3 in range(2,len(times)):\n",
    "        data['t3_integral'].append( spint.simps( np.real(data['current-current-correlations'])[:t3], times[:t3] ) )\n",
    "\n",
    "    return data"
   ]
  },
  {
   "cell_type": "code",
   "execution_count": null,
   "metadata": {},
   "outputs": [],
   "source": [
    "data = {}\n",
    "for correl in correl_set:\n",
    "    print 'reading ',correl\n",
    "    for T in T_set:\n",
    "        print 'T : ',T\n",
    "        try:\n",
    "            data[correl,T] = read_data(correl,T)\n",
    "        except IOError:\n",
    "            print 'could not find file : ',(correl,T)"
   ]
  },
  {
   "cell_type": "markdown",
   "metadata": {},
   "source": [
    "# Analyse"
   ]
  },
  {
   "cell_type": "code",
   "execution_count": null,
   "metadata": {},
   "outputs": [],
   "source": [
    "for correl in correl_set:\n",
    "    print 'correl : ',correl\n",
    "    fig,ax = plt.subplots()\n",
    "    \n",
    "    for T in T_set:\n",
    "        #print 'T : ',data[correl,T]['specification']['T']\n",
    "        plt.plot( times,np.real(data[correl,T]['current-current-correlations']), ',-', label=r'$T=$'+'{:.2g}'.format(data[correl,T]['specification']['T']), markersize=1.5 )\n",
    "        \n",
    "    #plt.xlim([-0.5,10.])\n",
    "    leg = plt.legend( loc=4, fontsize=16, bbox_to_anchor=(1.32,0.) )\n",
    "    plt.xlabel(r'$t$')\n",
    "    plt.ylabel(r'$\\langle \\, J(t) \\, J \\, \\rangle$')\n",
    "    \n",
    "    plt.savefig( 'long_curr-curr-'+correl+'.pdf',  bbox_extra_artist=(leg,), bbox_inches='tight', transparency=True )\n",
    "    plt.show()"
   ]
  },
  {
   "cell_type": "code",
   "execution_count": null,
   "metadata": {},
   "outputs": [],
   "source": [
    "for correl in correl_set:\n",
    "    print 'correl : ',correl\n",
    "    fig,ax = plt.subplots()\n",
    "    \n",
    "    for T_index,T in enumerate(T_set):\n",
    "        # plot C_E as a function of t3\n",
    "        plt.plot( data[correl,T]['t3'],np.real(data[correl,T]['t3_integral'])/data[correl,T]['specification']['T'], '.', label=r'$T=$'+'{:.2g}'.format(data[correl,T]['specification']['T']), color=tableau20[T_index], markersize=1.5 )\n",
    "        # plot the average\n",
    "        CE_avg = np.mean( np.real(data[correl,T]['t3_integral'])/data[correl,T]['specification']['T'] )\n",
    "        plt.plot( [0,1000],[CE_avg,CE_avg], '--', label=r'MEAN $T=$'+'{:.2g}'.format(data[correl,T]['specification']['T']), color=tableau20[T_index], linewidth=3. )\n",
    "        \n",
    "    #plt.xlim([-0.5,10])\n",
    "    leg = plt.legend( loc=4, fontsize=16, bbox_to_anchor=(1.47,0.) )\n",
    "    plt.xlabel(r'$t_3$')\n",
    "    plt.ylabel(r'$\\kappa_E(t_3)$')\n",
    "    plt.savefig( 'kE-'+correl+'_vs_t3.pdf',  bbox_extra_artist=(leg,), bbox_inches='tight', transparency=True )\n",
    "    plt.show()"
   ]
  },
  {
   "cell_type": "code",
   "execution_count": null,
   "metadata": {},
   "outputs": [],
   "source": [
    "plot_CE_avg = {}\n",
    "for correl in correl_set:\n",
    "    print 'correl : ',correl\n",
    "    \n",
    "    plot_CE_avg[correl] = {}\n",
    "    for T_index,T in enumerate(T_set):\n",
    "\n",
    "        # get the average\n",
    "        plot_CE_avg[correl][data[correl,T]['specification']['T']] = np.mean( np.real(data[correl,T]['t3_integral'][500:]) )\n",
    "\n",
    "    fig,ax = plt.subplots()\n",
    "    \n",
    "    sorted_T = []\n",
    "    sorted_CEbar = []\n",
    "    for key in sorted(plot_CE_avg[correl]):\n",
    "        sorted_T.append(float(key))\n",
    "        sorted_CEbar.append((float(plot_CE_avg[correl][key])))\n",
    "    \n",
    "    plt.plot( sorted_T,sorted_CEbar, '.-' )\n",
    "\n",
    "    #plt.plot( np.sort(plot_CE_avg[correl].keys()), 1.1/np.array(np.sort(plot_CE_avg[correl].keys())) )\n",
    "    \n",
    "    ax.set_xscale('log')\n",
    "    #ax.set_yscale('log')\n",
    "    plt.xlabel(r'$T$')\n",
    "    plt.ylabel(r'$\\langle \\kappa_E \\rangle$')\n",
    "    \n",
    "    plt.savefig( 'avgkE'+correl+'_vs_T.pdf', bbox_inches='tight', transparency=True )\n",
    "    plt.show()"
   ]
  },
  {
   "cell_type": "code",
   "execution_count": null,
   "metadata": {},
   "outputs": [],
   "source": [
    "plot_CE_avg = {}\n",
    "fig,ax = plt.subplots()\n",
    "for correl in ['xz','zz']:\n",
    "    print 'correl : ',correl\n",
    "    \n",
    "    plot_CE_avg[correl] = {}\n",
    "    for T_index,T in enumerate(T_set):\n",
    "\n",
    "        # get the average\n",
    "        plot_CE_avg[correl][data[correl,T]['specification']['T']] = 1./L**2 * (np.mean( np.real(data[correl,T]['t3_integral'][500:]) ))/data[correl,T]['specification']['T']**2  \n",
    "    \n",
    "    sorted_T = []\n",
    "    sorted_CEbar = []\n",
    "    for key in sorted(plot_CE_avg[correl]):\n",
    "        sorted_T.append(float(key))\n",
    "        sorted_CEbar.append((float(plot_CE_avg[correl][key])))\n",
    "    \n",
    "    plt.plot( sorted_T,sorted_CEbar, 'o-', label=r'$ab \\,=\\, $'+correl )\n",
    "\n",
    "    #plt.plot( np.sort(plot_CE_avg[correl].keys()), 1.1/np.array(np.sort(plot_CE_avg[correl].keys())) )\n",
    "    \n",
    "ax.set_xscale('log')\n",
    "#ax.set_yscale('log')\n",
    "plt.xlabel(r'$T$')\n",
    "plt.ylabel(r'$\\langle \\kappa_{ab} \\rangle$')\n",
    "plt.legend( loc=1, fontsize=18 )    \n",
    "\n",
    "#plt.savefig( 'avgkE'+correl+'_vs_T.pdf', bbox_inches='tight', transparency=True )\n",
    "plt.show()"
   ]
  },
  {
   "cell_type": "markdown",
   "metadata": {},
   "source": [
    "# FT of JJ"
   ]
  },
  {
   "cell_type": "markdown",
   "metadata": {},
   "source": [
    "Make it symmetric in time"
   ]
  },
  {
   "cell_type": "code",
   "execution_count": null,
   "metadata": {},
   "outputs": [],
   "source": [
    "correl = 'zz'\n",
    "T = 1\n",
    "shortening = 500\n",
    "signal = col.deque((data[correl,T]['current-current-correlations'])[:-shortening] )\n",
    "signal.extendleft((data[correl,T]['current-current-correlations'])[:-shortening] )\n",
    "signal = np.array(signal)"
   ]
  },
  {
   "cell_type": "code",
   "execution_count": null,
   "metadata": {},
   "outputs": [],
   "source": [
    "plt.plot(signal)"
   ]
  },
  {
   "cell_type": "code",
   "execution_count": null,
   "metadata": {},
   "outputs": [],
   "source": [
    "sp = np.fft.fft(signal)\n",
    "freq = np.fft.fftfreq(signal.shape[-1],float(dt))"
   ]
  },
  {
   "cell_type": "code",
   "execution_count": null,
   "metadata": {},
   "outputs": [],
   "source": [
    "fig,ax = plt.subplots( figsize=(16,12) )\n",
    "plt.plot( freq,(sp.real), '.-', linewidth=0.3, markersize=2.5 )\n",
    "plt.xlim([-1,1])"
   ]
  },
  {
   "cell_type": "code",
   "execution_count": null,
   "metadata": {},
   "outputs": [],
   "source": [
    "fig,ax = plt.subplots( figsize=(16,12) )\n",
    "plt.plot( freq, (-1./2 * (1- np.exp(-data[correl,T]['specification']['T']*freq)) * sp).real, '.-', linewidth=0.3, markersize=2.5 )\n",
    "plt.xlim([-1,1])\n",
    "plt.ylim([-3,3])"
   ]
  },
  {
   "cell_type": "markdown",
   "metadata": {},
   "source": [
    "W/o/ making it symmetric in time"
   ]
  },
  {
   "cell_type": "code",
   "execution_count": null,
   "metadata": {},
   "outputs": [],
   "source": [
    "correl = 'xz'\n",
    "T = 1\n",
    "shortening = 1\n",
    "signal = -1./(data[correl,T]['specification']['T'] * L**2) * (np.real(data[correl,T]['current-current-correlations']))[:-shortening]"
   ]
  },
  {
   "cell_type": "code",
   "execution_count": null,
   "metadata": {},
   "outputs": [],
   "source": [
    "plt.plot(signal)"
   ]
  },
  {
   "cell_type": "code",
   "execution_count": null,
   "metadata": {},
   "outputs": [],
   "source": [
    "sp = np.fft.fft(signal)\n",
    "freq = np.fft.fftfreq(signal.shape[-1],float(dt))"
   ]
  },
  {
   "cell_type": "code",
   "execution_count": null,
   "metadata": {},
   "outputs": [],
   "source": [
    "fig,ax = plt.subplots(  )\n",
    "plt.plot( freq,(sp.real), '.-', linewidth=0.5, markersize=2.5 )\n",
    "plt.xlim([-1,1])\n",
    "#plt.ylim([-10,4])\n",
    "\n",
    "plt.xlabel(r'$\\omega$')\n",
    "plt.ylabel(r'Re[$\\kappa(\\omega)$]')"
   ]
  },
  {
   "cell_type": "markdown",
   "metadata": {},
   "source": [
    "Set the omega=0 component to 0 and back transform"
   ]
  },
  {
   "cell_type": "code",
   "execution_count": null,
   "metadata": {},
   "outputs": [],
   "source": [
    "sp[0] = 0."
   ]
  },
  {
   "cell_type": "code",
   "execution_count": null,
   "metadata": {},
   "outputs": [],
   "source": [
    "back_signal = np.fft.ifft(sp)"
   ]
  },
  {
   "cell_type": "code",
   "execution_count": null,
   "metadata": {},
   "outputs": [],
   "source": [
    "plt.plot(signal)\n",
    "plt.plot(back_signal)\n",
    "plt.show()\n",
    "\n",
    "fig,ax = plt.subplots()\n",
    "plt.plot( np.abs(signal-back_signal) )\n",
    "ax.set_yscale('log')\n",
    "plt.show()"
   ]
  },
  {
   "cell_type": "code",
   "execution_count": null,
   "metadata": {},
   "outputs": [],
   "source": []
  }
 ],
 "metadata": {
  "hide_input": false,
  "kernelspec": {
   "display_name": "Python 2",
   "language": "python",
   "name": "python2"
  },
  "language_info": {
   "codemirror_mode": {
    "name": "ipython",
    "version": 2
   },
   "file_extension": ".py",
   "mimetype": "text/x-python",
   "name": "python",
   "nbconvert_exporter": "python",
   "pygments_lexer": "ipython2"
  },
  "toc": {
   "toc_cell": false,
   "toc_number_sections": true,
   "toc_threshold": 6,
   "toc_window_display": false
  }
 },
 "nbformat": 4,
 "nbformat_minor": 0
}
