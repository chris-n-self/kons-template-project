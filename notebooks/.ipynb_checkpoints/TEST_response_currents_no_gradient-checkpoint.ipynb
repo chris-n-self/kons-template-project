{
 "cells": [
  {
   "cell_type": "markdown",
   "metadata": {},
   "source": [
    "# Import libraries"
   ]
  },
  {
   "cell_type": "code",
   "execution_count": null,
   "metadata": {},
   "outputs": [],
   "source": [
    "import os\n",
    "import sys\n",
    "import json\n",
    "import csv\n",
    "import time\n",
    "import copy\n",
    "from IPython import display\n",
    "\n",
    "# numeric, scientific\n",
    "from scipy import linalg as spla\n",
    "from scipy.integrate import simps\n",
    "import numpy as np\n",
    "\n",
    "# plotting\n",
    "%matplotlib inline\n",
    "import matplotlib\n",
    "from mpl_toolkits.mplot3d import axes3d\n",
    "from matplotlib import cm\n",
    "import matplotlib.pyplot as plt\n",
    "from mpl_toolkits.axes_grid1 import make_axes_locatable\n",
    "\n",
    "# import Kitaev Honeycomb package\n",
    "import kithcmb\n",
    "from kithcmb import ThermalGradient as gradvs\n",
    "from kithcmb import VortexSectorThermalFermions as nongradvs\n",
    "\n",
    "# import jsci, CT's enhanced json stream write package\n",
    "import jsci\n",
    "from jsci import WriteStream as jsciwrite\n",
    "from jsci import Coding as jscicoding"
   ]
  },
  {
   "cell_type": "code",
   "execution_count": null,
   "metadata": {},
   "outputs": [],
   "source": [
    "plt.style.use('prettyfigs')"
   ]
  },
  {
   "cell_type": "markdown",
   "metadata": {},
   "source": [
    "# Set system parameters and initialise "
   ]
  },
  {
   "cell_type": "code",
   "execution_count": null,
   "metadata": {},
   "outputs": [],
   "source": [
    "L = 20\n",
    "J = 1.\n",
    "kappa = 0.1\n",
    "T = 0.1\n",
    "dt = 0.1\n",
    "max_t = 200.\n",
    "times = np.arange(-max_t,max_t,dt)"
   ]
  },
  {
   "cell_type": "code",
   "execution_count": null,
   "metadata": {},
   "outputs": [],
   "source": [
    "non_grad_sys = nongradvs.VortexSectorThermalFermions(L,J,kappa)\n",
    "grad_sys = gradvs.ThermalGradient(L,J,kappa,d_psi=0.1)"
   ]
  },
  {
   "cell_type": "raw",
   "metadata": {},
   "source": [
    "non_grad_sys.set_sign_disorder_random_vortex_configuration()\n",
    "grad_sys._clear_caches()\n",
    "grad_sys.Ux = copy.deepcopy(non_grad_sys.Ux)\n",
    "grad_sys.Uy = copy.deepcopy(non_grad_sys.Uy)\n",
    "grad_sys.Uz = copy.deepcopy(non_grad_sys.Uz)\n",
    "grad_sys._compute_all_A()\n",
    "grad_sys._update_spectrum()"
   ]
  },
  {
   "cell_type": "code",
   "execution_count": null,
   "metadata": {},
   "outputs": [],
   "source": [
    "# compute the coeffs of the eigenvectors of the system with no \n",
    "# thermal gradient in terms of eigenvectors of the system with\n",
    "# a thermal gradient\n",
    "print 'computing overlaps'\n",
    "non_grad_eigvecs = non_grad_sys._get_eigenvectors()\n",
    "grad_eigvecs = grad_sys._get_eigenvectors()\n",
    "overlaps = np.zeros((2*L**2,2*L**2),dtype='complex128')\n",
    "for m in np.arange(2*L**2):\n",
    "    for n in np.arange(2*L**2):\n",
    "        overlaps[n,m] = np.sum( np.conj(grad_eigvecs[:,m]) * non_grad_eigvecs[:,n] )"
   ]
  },
  {
   "cell_type": "code",
   "execution_count": null,
   "metadata": {},
   "outputs": [],
   "source": [
    "# compute the density matrix of the non-gradient state in basis of \n",
    "# the thermal gradient eigenstates\n",
    "print 'changing basis of density matrix'\n",
    "ferm_occs = non_grad_sys.get_fermionic_expectation_values(1./T)\n",
    "combined_fermionic_expectation_values = np.empty( 2 * L**2 )\n",
    "for m in range(L**2):\n",
    "    combined_fermionic_expectation_values[m] = np.exp( ferm_occs[2][m] )\n",
    "    combined_fermionic_expectation_values[2 * L**2 - 1 - m] = np.exp( ferm_occs[1][m] )\n",
    "combined_fermionic_expectation_values = np.diag( combined_fermionic_expectation_values )\n",
    "dens_mat = np.dot( np.matrix(overlaps).getH(),combined_fermionic_expectation_values )\n",
    "dens_mat = np.dot( dens_mat,overlaps )"
   ]
  },
  {
   "cell_type": "raw",
   "metadata": {},
   "source": [
    "# evolve the density matrix in time\n",
    "for t in times:\n",
    "    start_time = time.time()\n",
    "    U = np.diag( np.exp(-1j * grad_sys.spectrum * t) )\n",
    "    dens_mat_at_t = np.dot( U, dens_mat )\n",
    "    dens_mat_at_t = np.dot( dens_mat_at_t, np.matrix(U).getH() )\n",
    "\n",
    "    # multiply the fermionic expectation matrix with the eigenvectors to rotate to the\n",
    "    # Majorana basis\n",
    "    correl_matrix = np.dot( np.matrix(grad_eigvecs), np.matrix(dens_mat_at_t) )\n",
    "    correl_matrix = np.dot( correl_matrix, np.matrix(grad_eigvecs).getH() )\n",
    "\n",
    "    # there can be an arbitrary & non-physical real component of correl_matrix, we throw that away here\n",
    "    # (the real diagonal does have some meaning so we keep it)\n",
    "    diag_correl = np.diag(correl_matrix)\n",
    "    correl_matrix = 1j * np.imag(correl_matrix) + np.diag(diag_correl)\n",
    "\n",
    "    # cache the correlation matrix\n",
    "    # the factor of two corrects for the \\hat{a} fermions being prop to 1/2 (sum of c's) rather than 1/sqrt(2)\n",
    "    # this is equivalent to the statement that <c_i c_j> = 2 P_ij\n",
    "    correl_matrix = 2. * np.array(correl_matrix)\n",
    "\n",
    "    # get the currents\n",
    "    currents = grad_sys._compute_thermal_current_matrix(correl_matrix)\n",
    "\n",
    "    # output the currents\n",
    "    # file_name = output_name+\"{0:.2g}\".format(t)\n",
    "    # np.savetxt( file_name+\".csv\",np.real(currents), delimiter=\",\" )\n",
    "    \n",
    "    display.clear_output(wait=True)\n",
    "    fig,(ax1,ax2) = plt.subplots( 1,2,figsize=(16,8) )\n",
    "    \n",
    "    # get the net currents\n",
    "    net_current,temp_currents = grad_sys._sum_curr_in_x_dirn(currents)\n",
    "    xdirn_plot = ax1.imshow( np.real(net_current),interpolation='nearest',cmap='viridis')\n",
    "    divider1 = make_axes_locatable(ax1)\n",
    "    cax1 = divider1.append_axes(\"right\", size=\"20%\", pad=0.05)\n",
    "    cbar1 = plt.colorbar(xdirn_plot,cax=cax1)\n",
    "    cbar1.ax.tick_params(labelsize=10)\n",
    "    ax1.set_title('x-dirn',fontsize=20)\n",
    "    #\n",
    "    net_current,temp_currents = grad_sys._sum_curr_in_y_dirn(currents)\n",
    "    ydirn_plot = ax2.imshow( np.real(net_current),interpolation='nearest',cmap='viridis')\n",
    "    divider2 = make_axes_locatable(ax2)\n",
    "    cax2 = divider2.append_axes(\"right\", size=\"20%\", pad=0.05)\n",
    "    cbar2 = plt.colorbar(ydirn_plot,cax=cax2)\n",
    "    cbar2.ax.tick_params(labelsize=10)\n",
    "    ax2.set_title('z-dirn',fontsize=20)\n",
    "    \n",
    "    plt.show()\n",
    "    print 't : ',t\n",
    "    \n",
    "    print('took '+str(time.time()-start_time)+' seconds')"
   ]
  },
  {
   "cell_type": "code",
   "execution_count": null,
   "metadata": {},
   "outputs": [],
   "source": [
    "# arrays for storing the total currents in the x- and z- dirn as a function of time\n",
    "xtot = []\n",
    "ztot = []\n",
    "\n",
    "# evolve the density matrix in time\n",
    "for t in np.arange(0,max_t,dt):\n",
    "    start_time = time.time()\n",
    "    U = np.diag( np.exp(-1j * grad_sys.spectrum * t) )\n",
    "    dens_mat_at_t = np.dot( U, dens_mat )\n",
    "    dens_mat_at_t = np.dot( dens_mat_at_t, np.matrix(U).getH() )\n",
    "\n",
    "    # multiply the fermionic expectation matrix with the eigenvectors to rotate to the\n",
    "    # Majorana basis\n",
    "    correl_matrix = np.dot( np.matrix(grad_eigvecs), np.matrix(dens_mat_at_t) )\n",
    "    correl_matrix = np.dot( correl_matrix, np.matrix(grad_eigvecs).getH() )\n",
    "\n",
    "    # there can be an arbitrary & non-physical real component of correl_matrix, we throw that away here\n",
    "    # (the real diagonal does have some meaning so we keep it)\n",
    "    diag_correl = np.diag(correl_matrix)\n",
    "    correl_matrix = 1j * np.imag(correl_matrix) + np.diag(diag_correl)\n",
    "\n",
    "    # cache the correlation matrix\n",
    "    # the factor of two corrects for the \\hat{a} fermions being prop to 1/2 (sum of c's) rather than 1/sqrt(2)\n",
    "    # this is equivalent to the statement that <c_i c_j> = 2 P_ij\n",
    "    correl_matrix = 2. * np.array(correl_matrix)\n",
    "\n",
    "    # get the currents\n",
    "    currents = grad_sys._compute_thermal_current_matrix(correl_matrix)\n",
    "\n",
    "    # output the currents\n",
    "    # file_name = output_name+\"{0:.2g}\".format(t)\n",
    "    # np.savetxt( file_name+\".csv\",np.real(currents), delimiter=\",\" )\n",
    "    \n",
    "    display.clear_output(wait=True)\n",
    "    fig,(ax1,ax2) = plt.subplots( 1,2,figsize=(16,8) )\n",
    "    \n",
    "    # get the net currents\n",
    "    net_current,temp_currents = grad_sys._sum_curr_in_x_dirn(currents)\n",
    "    net_current = np.sum( net_current, axis=0 )\n",
    "    ax1.set_title('x-dirn, sum : '+str(np.sum(np.real(net_current))),fontsize=20)\n",
    "    ax1.plot( np.real(net_current) )\n",
    "    ax1.set_xlabel(r'$z$')\n",
    "    xtot.append(np.sum(np.real(net_current)))\n",
    "    #\n",
    "    net_current,temp_currents = grad_sys._sum_curr_in_y_dirn(currents)\n",
    "    net_current = np.sum( net_current, axis=1 )\n",
    "    ax2.set_title('z-dirn, sum : '+str(np.sum(np.real(net_current))),fontsize=20)\n",
    "    ax2.plot( np.real(net_current) )\n",
    "    ax2.set_xlabel(r'$x$')\n",
    "    ztot.append(np.sum(np.real(net_current)))\n",
    "    \n",
    "    plt.show()\n",
    "    print 't : ',t\n",
    "    \n",
    "    print('took '+str(time.time()-start_time)+' seconds')"
   ]
  },
  {
   "cell_type": "raw",
   "metadata": {},
   "source": [
    "ztot = np.trim_zeros(ztot)\n",
    "xtot = np.trim_zeros(xtot)"
   ]
  },
  {
   "cell_type": "code",
   "execution_count": null,
   "metadata": {},
   "outputs": [],
   "source": [
    "ztot = np.lib.pad( ztot, (len(times)-len(ztot),0), 'constant' )\n",
    "xtot = np.lib.pad( xtot, (len(times)-len(xtot),0), 'constant' )"
   ]
  },
  {
   "cell_type": "code",
   "execution_count": null,
   "metadata": {},
   "outputs": [],
   "source": [
    "fig,ax = plt.subplots()\n",
    "plt.plot( times,xtot, times,ztot )\n",
    "#ax.set_xlim([-20,20])"
   ]
  },
  {
   "cell_type": "code",
   "execution_count": null,
   "metadata": {},
   "outputs": [],
   "source": [
    "fig,ax = plt.subplots()\n",
    "plt.plot( times,xtot, ',', times,ztot, ',' )\n",
    "ax.set_xlim([-10,10])"
   ]
  },
  {
   "cell_type": "code",
   "execution_count": null,
   "metadata": {},
   "outputs": [],
   "source": [
    "pick_data = copy.deepcopy(ztot)"
   ]
  },
  {
   "cell_type": "code",
   "execution_count": null,
   "metadata": {},
   "outputs": [],
   "source": [
    "signal = np.array(pick_data)\n",
    "sp = -1j*(2*np.pi) * np.fft.fft(signal)\n",
    "freq = np.fft.fftfreq(signal.shape[-1],float(dt))"
   ]
  },
  {
   "cell_type": "code",
   "execution_count": null,
   "metadata": {},
   "outputs": [],
   "source": [
    "print sp.imag[0]"
   ]
  },
  {
   "cell_type": "code",
   "execution_count": null,
   "metadata": {},
   "outputs": [],
   "source": [
    "fig,ax = plt.subplots( figsize=(10,8) )\n",
    "plt.plot( freq,sp.real, '.-', linewidth=0.5, markersize=2.5 )\n",
    "plt.xlim([-1,1])\n",
    "#plt.ylim([-10,4])\n",
    "\n",
    "plt.xlabel(r'$\\omega$')\n",
    "# plt.ylabel(r'Re[$\\kappa(\\omega)$]')\n",
    "\n",
    "fig,ax = plt.subplots( figsize=(10,8) )\n",
    "plt.plot( freq[1:],sp.imag[1:], '.-', linewidth=0.5, markersize=2.5 )\n",
    "plt.xlim([-1,1])\n",
    "#plt.ylim([-10,4])\n",
    "\n",
    "plt.xlabel(r'$\\omega$')\n",
    "# plt.ylabel(r'Re[$\\kappa(\\omega)$]')"
   ]
  },
  {
   "cell_type": "code",
   "execution_count": null,
   "metadata": {},
   "outputs": [],
   "source": [
    "fig,ax = plt.subplots( figsize=(10,8) )\n",
    "plt.plot( freq,((sp.real)*freq), '.-', linewidth=0.5, markersize=2.5 )\n",
    "plt.xlim([-1,1])\n",
    "#plt.ylim([-10,4])\n",
    "\n",
    "plt.xlabel(r'$\\omega$')\n",
    "# plt.ylabel(r'Re[$\\kappa(\\omega)$]')\n",
    "\n",
    "fig,ax = plt.subplots( figsize=(10,8) )\n",
    "plt.plot( freq,((sp.imag)*freq), '.-', linewidth=0.5, markersize=2.5 )\n",
    "plt.xlim([-1,1])\n",
    "#plt.ylim([-10,4])\n",
    "\n",
    "plt.xlabel(r'$\\omega$')\n",
    "# plt.ylabel(r'Re[$\\kappa(\\omega)$]')"
   ]
  },
  {
   "cell_type": "markdown",
   "metadata": {},
   "source": [
    "compute the delta function contribution"
   ]
  },
  {
   "cell_type": "code",
   "execution_count": null,
   "metadata": {},
   "outputs": [],
   "source": [
    "cutoff = 100\n",
    "t1 = times[cutoff]\n",
    "cutoff_t2_multiplier = 2\n",
    "t2_times = times[cutoff_t2_multiplier*cutoff:]\n",
    "integrals = []\n",
    "for t2_index,t2 in enumerate(t2_times):\n",
    "    integrals.append(simps( pick_data[cutoff:cutoff_t2_multiplier*cutoff+t2_index],times[cutoff:cutoff_t2_multiplier*cutoff+t2_index] ) / (t2-t1) )\n",
    "\n",
    "\n",
    "fig,ax = plt.subplots()\n",
    "line, = ax.plot( t2_times,integrals )\n",
    "plt.plot( [t2_times[0],t2_times[-1]], [np.mean(integrals),np.mean(integrals)], '--', color=line.get_color() )\n",
    "plt.xlabel('t2')\n",
    "plt.title('mean : '+str(np.mean(integrals)), fontsize=18)"
   ]
  },
  {
   "cell_type": "markdown",
   "metadata": {},
   "source": [
    "compute the principal value contribution"
   ]
  },
  {
   "cell_type": "code",
   "execution_count": null,
   "metadata": {},
   "outputs": [],
   "source": [
    "cutoff_t3_min = 50\n",
    "t3_times = times[cutoff_t3_min:]\n",
    "integrals = []\n",
    "for t3_index,t3 in enumerate(t3_times):\n",
    "    integrals.append(simps( pick_data[:cutoff_t3_min+t3_index],times[:cutoff_t3_min+t3_index] ) )\n",
    "\n",
    "\n",
    "fig,ax = plt.subplots()\n",
    "line, = ax.plot( t3_times,integrals )\n",
    "plt.plot( [t3_times[0],t3_times[-1]], [np.mean(integrals),np.mean(integrals)], '--', color=line.get_color() )\n",
    "plt.xlabel('t3')\n",
    "plt.title('mean : '+str(np.mean(integrals)), fontsize=18)"
   ]
  },
  {
   "cell_type": "code",
   "execution_count": null,
   "metadata": {},
   "outputs": [],
   "source": [
    "# evolve the density matrix in time\n",
    "net_changes = np.zeros((2*L,L))\n",
    "for t in times:\n",
    "    start_time = time.time()\n",
    "    U = np.diag( np.exp(-1j * grad_sys.spectrum * t) )\n",
    "    dens_mat_at_t = np.dot( U, dens_mat )\n",
    "    dens_mat_at_t = np.dot( dens_mat_at_t, np.matrix(U).getH() )\n",
    "\n",
    "    # multiply the fermionic expectation matrix with the eigenvectors to rotate to the\n",
    "    # Majorana basis\n",
    "    correl_matrix = np.dot( np.matrix(grad_eigvecs), np.matrix(dens_mat_at_t) )\n",
    "    correl_matrix = np.dot( correl_matrix, np.matrix(grad_eigvecs).getH() )\n",
    "\n",
    "    # there can be an arbitrary & non-physical real component of correl_matrix, we throw that away here\n",
    "    # (the real diagonal does have some meaning so we keep it)\n",
    "    diag_correl = np.diag(correl_matrix)\n",
    "    correl_matrix = 1j * np.imag(correl_matrix) + np.diag(diag_correl)\n",
    "\n",
    "    # cache the correlation matrix\n",
    "    # the factor of two corrects for the \\hat{a} fermions being prop to 1/2 (sum of c's) rather than 1/sqrt(2)\n",
    "    # this is equivalent to the statement that <c_i c_j> = 2 P_ij\n",
    "    correl_matrix = 2. * np.array(correl_matrix)\n",
    "\n",
    "    # get the currents\n",
    "    currents = grad_sys._compute_thermal_current_matrix(correl_matrix)\n",
    "\n",
    "    # go to every site & compute the change in energy\n",
    "    for x in np.arange(1,L+1):\n",
    "        for y in np.arange(1,L+1):\n",
    "            spin_id = grad_sys._convert_lattice_coord_to_spin_id(x,y,0)\n",
    "            for site in grad_sys._get_neighbourhood_of_spin(spin_id):\n",
    "                net_changes[2*x-2,y-1] = net_changes[2*x-2,y-1] + np.real(currents[site-1,spin_id-1])*dt\n",
    "            spin_id = grad_sys._convert_lattice_coord_to_spin_id(x,y,1)\n",
    "            for site in grad_sys._get_neighbourhood_of_spin(spin_id):\n",
    "                net_changes[2*x-1,y-1] = net_changes[2*x-1,y-1] + np.real(currents[site-1,spin_id-1])*dt\n",
    "    display.clear_output(wait=True)\n",
    "    plt.figure( figsize=(8,8) )\n",
    "    plt.imshow( np.real(net_changes),interpolation='nearest',cmap='coolwarm')\n",
    "    plt.colorbar()\n",
    "    cmax = np.max( [np.abs(np.min(net_changes)),np.abs(np.max(net_changes))] )\n",
    "    plt.clim([-cmax,cmax])\n",
    "    plt.show()\n",
    "    print 't : ',t\n",
    "    print 'np.sum(net_changes[:,int(L/2.):]) : ',np.sum(net_changes[:,int(L/2.):])\n",
    "    print 'np.sum(net_changes) : ',np.sum(net_changes)\n",
    "    \n",
    "    print('took '+str(time.time()-start_time)+' seconds')"
   ]
  },
  {
   "cell_type": "code",
   "execution_count": null,
   "metadata": {},
   "outputs": [],
   "source": []
  },
  {
   "cell_type": "code",
   "execution_count": null,
   "metadata": {},
   "outputs": [],
   "source": []
  }
 ],
 "metadata": {
  "hide_input": false,
  "kernelspec": {
   "display_name": "Python 2",
   "language": "python",
   "name": "python2"
  },
  "language_info": {
   "codemirror_mode": {
    "name": "ipython",
    "version": 2
   },
   "file_extension": ".py",
   "mimetype": "text/x-python",
   "name": "python",
   "nbconvert_exporter": "python",
   "pygments_lexer": "ipython2"
  },
  "notify_time": "30",
  "toc": {
   "toc_cell": false,
   "toc_number_sections": true,
   "toc_threshold": 6,
   "toc_window_display": false
  }
 },
 "nbformat": 4,
 "nbformat_minor": 0
}
