{
 "cells": [
  {
   "cell_type": "code",
   "execution_count": null,
   "metadata": {},
   "outputs": [],
   "source": [
    "# import numpy\n",
    "import numpy as np\n",
    "\n",
    "# import matplotlib for plotting\n",
    "%matplotlib inline\n",
    "import matplotlib as mpl\n",
    "import matplotlib.pyplot as plt\n",
    "from cycler import cycler"
   ]
  },
  {
   "cell_type": "code",
   "execution_count": null,
   "metadata": {},
   "outputs": [],
   "source": [
    "mpl.rcParams['font.family'] = 'serif'\n",
    "mpl.rcParams['axes.labelsize'] = 28\n",
    "mpl.rcParams['xtick.labelsize'] = 18\n",
    "mpl.rcParams['ytick.labelsize'] = 18\n",
    "mpl.rcParams['legend.framealpha'] = 0.0\n",
    "mpl.rcParams['figure.figsize'] = 8, 6\n",
    "mpl.rcParams['axes.prop_cycle'] = cycler('color', ['#1F77B4','#FF7F0E','#2CA02C','#D62728','#9467BD','#8C564B','#E377C2','#7F7F7F','#BCBD22','#17BECF','#AEC7E8','#FFBB78','#98DF8A','#FF9896','#C5B0D5','#C49C94','#F7B6D2', '#C7C7C7','#DBDB8D','#9EDAE5'] )"
   ]
  },
  {
   "cell_type": "code",
   "execution_count": null,
   "metadata": {},
   "outputs": [],
   "source": [
    "L = 1010\n",
    "x =180\n",
    "dx = 40"
   ]
  },
  {
   "cell_type": "code",
   "execution_count": null,
   "metadata": {},
   "outputs": [],
   "source": [
    "freqs = np.arange(L)\n",
    "spec = [ 0. for f in freqs ]\n",
    "spec[int(L/2.)-x-3*dx] = 0.25\n",
    "spec[int(L/2.)-x-2*dx] = 0.25\n",
    "spec[int(L/2.)-x-dx] = 1.\n",
    "spec[int(L/2.)-x] = 0.25\n",
    "spec[int(L/2.)+x] = 0.25\n",
    "spec[int(L/2.)+x+dx] = 1.\n",
    "spec[int(L/2.)+x+2*dx] = 0.25\n",
    "spec[int(L/2.)+x+3*dx] = 0.25\n",
    "spec_reorder = []\n",
    "[ spec_reorder.append(ii) for ii in [ spec[int(L/2)] ] ]\n",
    "[ spec_reorder.append(ii) for ii in spec[int(L/2)+1:] ]\n",
    "[ spec_reorder.append(ii) for ii in spec[:int(L/2)] ]\n",
    "print ''"
   ]
  },
  {
   "cell_type": "markdown",
   "metadata": {},
   "source": [
    "# A nice friendly little time-series"
   ]
  },
  {
   "cell_type": "code",
   "execution_count": null,
   "metadata": {},
   "outputs": [],
   "source": [
    "time_series = np.fft.ifft(spec_reorder).real\n",
    "\n",
    "fig,ax = plt.subplots()\n",
    "plt.plot( time_series )\n",
    "plt.xlim([0,150])\n",
    "plt.xlabel(r'$t$')\n",
    "plt.ylabel(r'$u$')\n",
    "plt.show()"
   ]
  },
  {
   "cell_type": "markdown",
   "metadata": {},
   "source": [
    "Look at it, pootling along, not bothering anyone"
   ]
  },
  {
   "cell_type": "markdown",
   "metadata": {},
   "source": [
    "# A cute little Fourier transform"
   ]
  },
  {
   "cell_type": "code",
   "execution_count": null,
   "metadata": {},
   "outputs": [],
   "source": [
    "FT_data = np.fft.fft(time_series).real\n",
    "n = len(FT_data)\n",
    "FT = np.concatenate((FT_data[n//2 + 1:],FT_data[:n//2 + 1]))"
   ]
  },
  {
   "cell_type": "markdown",
   "metadata": {},
   "source": [
    "Let's plot it and see the frequencies what they are\n",
    "<br>...</br>\n",
    "<br>...</br>\n",
    "<br>...</br>\n",
    "<br>...</br>\n",
    "<br>...</br>\n",
    "<br>...</br>\n",
    "<br>...</br>\n",
    "<br>...</br>\n",
    "<br>...</br>\n",
    "<br>...</br>\n",
    "<br>...</br>\n",
    "<br>...</br>\n",
    "<br>...</br>\n",
    "<br>...</br>\n",
    "<br>...</br>\n",
    "<br>...</br>\n",
    "<br>...</br>\n",
    "<br>...</br>\n",
    "<br>...</br>\n",
    "<br>...</br>\n",
    "<br>...</br>\n",
    "<br>...</br>\n",
    "<br>...</br>\n",
    "<br>...</br>\n",
    "<br>...</br>\n",
    "<br>...</br>\n",
    "<br>...</br>\n",
    "<br>...</br>\n",
    "<br>...</br>\n",
    "<br>...</br>\n",
    "<br>...</br>\n",
    "<br>...</br>\n",
    "<br>...</br>\n",
    "<br>...</br>\n",
    "<br>...</br>\n",
    "<br>...</br>\n",
    "<br>...</br>\n",
    "<br>...</br>\n",
    "<br>...</br>\n",
    "<br>...</br>\n",
    "<br>...</br>\n",
    "<br>...</br>\n",
    "<br>...</br>\n",
    "<br>...</br>"
   ]
  },
  {
   "cell_type": "markdown",
   "metadata": {},
   "source": [
    "What could they be?\n",
    "<br>...</br>\n",
    "<br>...</br>\n",
    "<br>...</br>\n",
    "<br>...</br>\n",
    "<br>...</br>\n",
    "<br>...</br>\n",
    "<br>...</br>\n",
    "<br>...</br>\n",
    "<br>...</br>\n",
    "<br>...</br>\n",
    "<br>...</br>\n",
    "<br>...</br>\n",
    "<br>...</br>\n",
    "<br>...</br>\n",
    "<br>...</br>\n",
    "<br>...</br>\n",
    "<br>...</br>\n",
    "<br>...</br>\n",
    "<br>...</br>\n",
    "<br>...</br>\n",
    "<br>...</br>\n",
    "<br>...</br>"
   ]
  },
  {
   "cell_type": "markdown",
   "metadata": {},
   "source": [
    "I don't know about you but I'm SO excited\n",
    "<br>...</br>\n",
    "<br>...</br>\n",
    "<br>...</br>\n",
    "<br>...</br>\n",
    "<br>...</br>\n",
    "<br>...</br>\n",
    "<br>...</br>\n",
    "<br>...</br>\n",
    "<br>...</br>\n",
    "<br>...</br>\n",
    "<br>...</br>\n",
    "<br>...</br>\n",
    "<br>...</br>\n",
    "<br>...</br>\n",
    "<br>...</br>\n",
    "<br>...</br>\n",
    "<br>...</br>\n",
    "<br>...</br>\n",
    "<br>...</br>\n",
    "<br>...</br>\n",
    "<br>...</br>\n",
    "<br>...</br>\n",
    "<br>...</br>\n",
    "<br>...</br>\n",
    "<br>...</br>\n",
    "<br>...</br>\n",
    "<br>...</br>\n",
    "<br>...</br>\n",
    "<br>...</br>\n",
    "<br>...</br>\n",
    "<br>...</br>\n",
    "<br>...</br>\n",
    "<br>...</br>\n",
    "<br>...</br>\n",
    "<br>...</br>\n",
    "<br>...</br>\n",
    "<br>...</br>\n",
    "<br>...</br>\n",
    "<br>...</br>\n",
    "<br>...</br>\n",
    "<br>...</br>\n",
    "<br>...</br>\n",
    "<br>...</br>\n",
    "<br>...</br>\n",
    "<br>...</br>\n",
    "<br>...</br>\n",
    "<br>...</br>\n",
    "<br>...</br>\n",
    "<br>...</br>\n",
    "<br>...</br>\n",
    "<br>...</br>\n",
    "<br>...</br>\n",
    "<br>...</br>\n",
    "<br>...</br>\n",
    "<br>...</br>\n",
    "<br>...</br>\n",
    "<br>...</br>\n",
    "<br>...</br>\n",
    "<br>...</br>\n",
    "<br>...</br>\n",
    "<br>...</br>\n",
    "<br>...</br>\n",
    "<br>...</br>\n",
    "<br>...</br>\n",
    "<br>...</br>\n",
    "<br>...</br>"
   ]
  },
  {
   "cell_type": "code",
   "execution_count": null,
   "metadata": {},
   "outputs": [],
   "source": [
    "plt.plot( FT )\n",
    "plt.xlim([0,L])\n",
    "plt.ylim([0,1])\n",
    "plt.ylabel(r'$\\mathcal{F} \\, [u]$')\n",
    "plt.xlabel(r'$\\omega$')\n",
    "plt.show()"
   ]
  },
  {
   "cell_type": "code",
   "execution_count": null,
   "metadata": {},
   "outputs": [],
   "source": []
  }
 ],
 "metadata": {
  "hide_input": false,
  "kernelspec": {
   "display_name": "Python 2",
   "language": "python",
   "name": "python2"
  },
  "language_info": {
   "codemirror_mode": {
    "name": "ipython",
    "version": 2
   },
   "file_extension": ".py",
   "mimetype": "text/x-python",
   "name": "python",
   "nbconvert_exporter": "python",
   "pygments_lexer": "ipython2"
  },
  "notify_time": "30",
  "toc": {
   "toc_cell": false,
   "toc_number_sections": true,
   "toc_threshold": 6,
   "toc_window_display": false
  }
 },
 "nbformat": 4,
 "nbformat_minor": 0
}
