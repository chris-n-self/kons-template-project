{
 "cells": [
  {
   "cell_type": "markdown",
   "metadata": {},
   "source": [
    "# Imports"
   ]
  },
  {
   "cell_type": "code",
   "execution_count": null,
   "metadata": {},
   "outputs": [],
   "source": [
    "# system and data handling packages\n",
    "import os\n",
    "import sys\n",
    "import json\n",
    "import csv\n",
    "\n",
    "# matplotlib packages\n",
    "%matplotlib inline\n",
    "from mpl_toolkits.mplot3d import axes3d\n",
    "from matplotlib import cm\n",
    "import matplotlib.pyplot as plt\n",
    "# change figure fonts\n",
    "from matplotlib import rcParams\n",
    "rcParams['font.family'] = 'serif'\n",
    "rcParams['font.sans-serif'] = ['Times']\n",
    "\n",
    "# import jsci, CT's enhanced json stream write package\n",
    "import jsci\n",
    "from jsci import WriteStream as jsciwrite\n",
    "from jsci import Coding as jscicoding\n",
    "\n",
    "# numpy\n",
    "import numpy as np\n",
    "from scipy.interpolate import interp1d\n",
    "import scipy as sp\n",
    "from scipy import stats\n",
    "from scipy.optimize import curve_fit\n",
    "\n",
    "# import Kitaev Honeycomb package\n",
    "import kithcmb\n",
    "from kithcmb import ThermalGradient as vs"
   ]
  },
  {
   "cell_type": "code",
   "execution_count": null,
   "metadata": {},
   "outputs": [],
   "source": [
    "plt.style.use('prettyfigs')"
   ]
  },
  {
   "cell_type": "markdown",
   "metadata": {},
   "source": [
    "# Read data"
   ]
  },
  {
   "cell_type": "code",
   "execution_count": null,
   "metadata": {},
   "outputs": [],
   "source": [
    "data_paths = []\n",
    "data_paths.append( os.pardir + '/data/2016-08-04_1905_odLF' )\n",
    "data_paths.append( os.pardir + '/data/2016-08-04_1905_odLFc' )"
   ]
  },
  {
   "cell_type": "code",
   "execution_count": null,
   "metadata": {},
   "outputs": [],
   "source": [
    "L_set = [ 8, 12, 16 ]\n",
    "dirn_set = [ 'x','y','z' ]\n",
    "conj_set = [ 0, 1 ]"
   ]
  },
  {
   "cell_type": "code",
   "execution_count": null,
   "metadata": {},
   "outputs": [],
   "source": [
    "def read_data( L_,dirn_,conj_ ):\n",
    "    for dpath in data_paths:\n",
    "        #rel_path = dpath+'/L_'+str(L_)+'/dirn_'+dirn_+'/p_'+str(p_)\n",
    "        rel_path = dpath+'/L_'+str(L_)+'/dirn_'+dirn_\n",
    "        # print 'looking in ',rel_path\n",
    "        try:\n",
    "            # base the data object on the first process's data file\n",
    "            with open( rel_path+'/OffDiagLattFact_NV_L'+str(L_)+'_qconj'+str(conj_)+'_dirn'+str(dirn_)+'.json', 'r') as file:\n",
    "                data = json.load( file, cls=jscicoding.NumericDecoder )\n",
    "                \n",
    "            # expose the lattice factors to make accessing them a bit easier\n",
    "            data['lat_fact'] = np.zeros((L_**2,L_**2),dtype='complex128')\n",
    "            for coh_data in data['data']:\n",
    "                data['lat_fact'][ coh_data['p'],coh_data['q'] ] = coh_data['lattice_factor']\n",
    "            del data['data']    \n",
    "            \n",
    "            # symmetrise to get the full-set of correlations\n",
    "            if conj_:\n",
    "                data['lat_fact'] -= np.transpose(data['lat_fact'])\n",
    "            else:\n",
    "                data['lat_fact'] += 1j*np.transpose(np.real(data['lat_fact'])) + np.transpose(np.imag(data['lat_fact']))\n",
    "            \n",
    "            return data\n",
    "        except IOError:\n",
    "            pass\n",
    "        except ValueError:\n",
    "            print 'corrupt data file ',rel_path+'/LatFatt_NV_L'+str(L_)+'_T'+str(p_)+'.json'\n",
    "\n",
    "    raise IOError"
   ]
  },
  {
   "cell_type": "code",
   "execution_count": null,
   "metadata": {},
   "outputs": [],
   "source": [
    "data = {}\n",
    "for L in L_set:\n",
    "    for dirn in dirn_set:\n",
    "        for conj in conj_set:\n",
    "            try:\n",
    "                data[(L,dirn,conj)] = read_data(L,dirn,conj)\n",
    "            except IOError:\n",
    "                print 'could not find file : ',(L,dirn,conj)"
   ]
  },
  {
   "cell_type": "markdown",
   "metadata": {},
   "source": [
    "# Plot lattice factors over pairs of modes"
   ]
  },
  {
   "cell_type": "code",
   "execution_count": null,
   "metadata": {},
   "outputs": [],
   "source": [
    "for L in L_set:\n",
    "    print 'L : ',L\n",
    "    for dirn in dirn_set:\n",
    "        for conj in conj_set:\n",
    "            print 'conj : ',conj\n",
    "            print 'dirn : ',dirn\n",
    "\n",
    "            print 'REAL'\n",
    "            fig,ax = plt.subplots( figsize=(8,8) )\n",
    "            plt.imshow( np.real(data[L,dirn,conj]['lat_fact']), interpolation='nearest', cmap='RdBu' )\n",
    "            plt.ylabel( r'$p$' )\n",
    "            plt.xlabel( r'$q$' )\n",
    "            plt.colorbar()\n",
    "            plt.show()\n",
    "            \n",
    "            print 'IMAG'\n",
    "            fig,ax = plt.subplots( figsize=(8,8) )\n",
    "            plt.imshow( np.imag(data[L,dirn,conj]['lat_fact']), interpolation='nearest', cmap='RdBu' )\n",
    "            plt.ylabel( r'$p$' )\n",
    "            plt.xlabel( r'$q$' )\n",
    "            plt.colorbar()\n",
    "            plt.show()"
   ]
  },
  {
   "cell_type": "code",
   "execution_count": null,
   "metadata": {},
   "outputs": [],
   "source": []
  }
 ],
 "metadata": {
  "hide_input": false,
  "kernelspec": {
   "display_name": "Python 2",
   "language": "python",
   "name": "python2"
  },
  "language_info": {
   "codemirror_mode": {
    "name": "ipython",
    "version": 2
   },
   "file_extension": ".py",
   "mimetype": "text/x-python",
   "name": "python",
   "nbconvert_exporter": "python",
   "pygments_lexer": "ipython2"
  },
  "toc": {
   "toc_cell": false,
   "toc_number_sections": true,
   "toc_threshold": 6,
   "toc_window_display": false
  }
 },
 "nbformat": 4,
 "nbformat_minor": 0
}
