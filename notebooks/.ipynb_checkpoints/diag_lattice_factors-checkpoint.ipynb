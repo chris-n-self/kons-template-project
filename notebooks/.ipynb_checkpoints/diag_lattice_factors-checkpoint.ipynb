{
 "cells": [
  {
   "cell_type": "code",
   "execution_count": null,
   "metadata": {},
   "outputs": [],
   "source": [
    "# Imports"
   ]
  },
  {
   "cell_type": "code",
   "execution_count": null,
   "metadata": {},
   "outputs": [],
   "source": [
    "# system and data handling packages\n",
    "import os\n",
    "import sys\n",
    "import json\n",
    "import csv\n",
    "\n",
    "# matplotlib packages\n",
    "%matplotlib inline\n",
    "from mpl_toolkits.mplot3d import axes3d\n",
    "from matplotlib import cm\n",
    "import matplotlib.pyplot as plt\n",
    "# change figure fonts\n",
    "from matplotlib import rcParams\n",
    "rcParams['font.family'] = 'serif'\n",
    "rcParams['font.sans-serif'] = ['Times']\n",
    "\n",
    "# import jsci, CT's enhanced json stream write package\n",
    "import jsci\n",
    "from jsci import WriteStream as jsciwrite\n",
    "from jsci import Coding as jscicoding\n",
    "\n",
    "# numpy\n",
    "import numpy as np\n",
    "from scipy.interpolate import interp1d\n",
    "import scipy as sp\n",
    "from scipy import stats\n",
    "from scipy.optimize import curve_fit\n",
    "\n",
    "# import Kitaev Honeycomb package\n",
    "import kithcmb\n",
    "from kithcmb import ThermalGradient as vs"
   ]
  },
  {
   "cell_type": "code",
   "execution_count": null,
   "metadata": {},
   "outputs": [],
   "source": [
    "plt.style.use('prettyfigs')"
   ]
  },
  {
   "cell_type": "code",
   "execution_count": null,
   "metadata": {},
   "outputs": [],
   "source": [
    "# These are the \"Tableau 20\" colors as RGB.       \n",
    "tableau20 = [(31, 119, 180),(44, 160, 44),(255, 127, 14), \n",
    "             (214, 39, 40),  \n",
    "             (148, 103, 189),(140, 86, 75),\n",
    "             (227, 119, 194),(127, 127, 127),\n",
    "             (188, 189, 34),(23, 190, 207),]   \n",
    "# Scale the RGB values to the [0, 1] range, which is the format matplotlib accepts.    \n",
    "for i in range(len(tableau20)):    \n",
    "    r, g, b = tableau20[i]    \n",
    "    tableau20[i] = (r / 255., g / 255., b / 255.)  "
   ]
  },
  {
   "cell_type": "markdown",
   "metadata": {},
   "source": [
    "# Read data"
   ]
  },
  {
   "cell_type": "code",
   "execution_count": null,
   "metadata": {},
   "outputs": [],
   "source": [
    "data_paths = []\n",
    "data_paths.append( os.pardir + '/data/2016-08-04_1904_dLF' )"
   ]
  },
  {
   "cell_type": "code",
   "execution_count": null,
   "metadata": {},
   "outputs": [],
   "source": [
    "L_set = [ 12, 16 ]\n",
    "dirn_set = [ 'x','y','z' ]"
   ]
  },
  {
   "cell_type": "code",
   "execution_count": null,
   "metadata": {},
   "outputs": [],
   "source": [
    "def read_data( L_,dirn_ ):\n",
    "    for dpath in data_paths:\n",
    "        #rel_path = dpath+'/L_'+str(L_)+'/dirn_'+dirn_+'/p_'+str(p_)\n",
    "        rel_path = dpath+'/L_'+str(L_)+'/dirn_'+dirn_\n",
    "        # print 'looking in ',rel_path\n",
    "        try:\n",
    "            # base the data object on the first process's data file\n",
    "            with open( rel_path+'/DiagLattFact_NV_L'+str(L_)+'_dirn'+str(dirn_)+'.json', 'r') as file:\n",
    "                data = json.load( file, cls=jscicoding.NumericDecoder )\n",
    "                \n",
    "            # expose the lattice factors to make accessing them a bit easier\n",
    "            data['lat_fact'] = {}\n",
    "            for mode_data in data['data']:\n",
    "                data['lat_fact'][ mode_data['mode'] ] = mode_data['lattice_factor']\n",
    "            del data['data']\n",
    "                \n",
    "            return data\n",
    "        except IOError:\n",
    "            pass\n",
    "        except ValueError:\n",
    "            print 'corrupt data file ',rel_path+'/LatFatt_NV_L'+str(L_)+'_T'+str(p_)+'.json'\n",
    "\n",
    "    raise IOError"
   ]
  },
  {
   "cell_type": "code",
   "execution_count": null,
   "metadata": {},
   "outputs": [],
   "source": [
    "data = {}\n",
    "for L in L_set:\n",
    "    for dirn in dirn_set:\n",
    "        try:\n",
    "            data[(L,dirn)] = read_data(L,dirn)\n",
    "        except IOError:\n",
    "            print 'could not find file : ',(L,dirn)"
   ]
  },
  {
   "cell_type": "markdown",
   "metadata": {},
   "source": [
    "# Plot lattice factors as a function of mode"
   ]
  },
  {
   "cell_type": "code",
   "execution_count": null,
   "metadata": {},
   "outputs": [],
   "source": [
    "for L in L_set:\n",
    "    print 'L : ',L\n",
    "    for dirn in dirn_set:\n",
    "        print 'dirn : ',dirn\n",
    "        modes = data[L,dirn]['lat_fact'].keys()\n",
    "        latt_fact = np.array(data[L,dirn]['lat_fact'].values())\n",
    "        plt.plot( np.real(latt_fact), 'o-' )\n",
    "        plt.plot( np.imag(latt_fact), 'o-' )\n",
    "        plt.show()"
   ]
  },
  {
   "cell_type": "code",
   "execution_count": null,
   "metadata": {},
   "outputs": [],
   "source": [
    "for L in L_set:\n",
    "    print 'L : ',L\n",
    "    print 'x + y'\n",
    "    modes = data[L,'x']['lat_fact'].keys()\n",
    "    x_latt_fact = np.array(data[L,'x']['lat_fact'].values())\n",
    "    y_latt_fact = np.array(data[L,'y']['lat_fact'].values())\n",
    "    plt.plot( np.real(x_latt_fact+y_latt_fact) )\n",
    "    plt.plot( np.imag(x_latt_fact+y_latt_fact) )\n",
    "    plt.show()"
   ]
  },
  {
   "cell_type": "markdown",
   "metadata": {},
   "source": [
    "## sum the lattice factors over all modes"
   ]
  },
  {
   "cell_type": "code",
   "execution_count": null,
   "metadata": {},
   "outputs": [],
   "source": [
    "for L in L_set:\n",
    "    print 'L : ',L\n",
    "    for dirn in dirn_set:\n",
    "        print 'dirn : ',dirn\n",
    "        print 'sum : ', np.real(np.sum( data[L,dirn]['lat_fact'].values() ))"
   ]
  },
  {
   "cell_type": "code",
   "execution_count": null,
   "metadata": {},
   "outputs": [],
   "source": []
  }
 ],
 "metadata": {
  "hide_input": false,
  "kernelspec": {
   "display_name": "Python 2",
   "language": "python",
   "name": "python2"
  },
  "language_info": {
   "codemirror_mode": {
    "name": "ipython",
    "version": 2
   },
   "file_extension": ".py",
   "mimetype": "text/x-python",
   "name": "python",
   "nbconvert_exporter": "python",
   "pygments_lexer": "ipython2"
  },
  "toc": {
   "toc_cell": false,
   "toc_number_sections": true,
   "toc_threshold": 6,
   "toc_window_display": false
  }
 },
 "nbformat": 4,
 "nbformat_minor": 0
}
