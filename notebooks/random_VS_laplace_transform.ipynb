{
 "cells": [
  {
   "cell_type": "markdown",
   "metadata": {
    "deletable": true,
    "editable": true
   },
   "source": [
    "# Imports"
   ]
  },
  {
   "cell_type": "code",
   "execution_count": null,
   "metadata": {
    "deletable": true,
    "editable": true
   },
   "outputs": [],
   "source": [
    "# system and data handling packages\n",
    "import os\n",
    "import sys\n",
    "import json\n",
    "import csv\n",
    "import collections as col\n",
    "\n",
    "# matplotlib packages\n",
    "%matplotlib inline\n",
    "from mpl_toolkits.mplot3d import axes3d\n",
    "from matplotlib import cm\n",
    "import matplotlib.pyplot as plt\n",
    "# change figure fonts\n",
    "from matplotlib import rcParams\n",
    "\n",
    "# import jsci, CT's enhanced json stream write package\n",
    "import jsci\n",
    "from jsci import WriteStream as jsciwrite\n",
    "from jsci import Coding as jscicoding\n",
    "\n",
    "# numpy\n",
    "import numpy as np\n",
    "from scipy.interpolate import interp1d\n",
    "import scipy as sp\n",
    "from scipy import stats\n",
    "from scipy import optimize as scop\n",
    "import scipy.integrate as spint\n",
    "import scipy.fftpack as spft\n",
    "import scipy.signal as spsig\n",
    "\n",
    "# import Kitaev Honeycomb package\n",
    "import kithcmb\n",
    "from kithcmb import ThermalGradient as vs"
   ]
  },
  {
   "cell_type": "code",
   "execution_count": null,
   "metadata": {
    "deletable": true,
    "editable": true
   },
   "outputs": [],
   "source": [
    "plt.style.use('prettyfigs')"
   ]
  },
  {
   "cell_type": "code",
   "execution_count": null,
   "metadata": {
    "deletable": true,
    "editable": true
   },
   "outputs": [],
   "source": [
    "# These are the \"Tableau 20\" colors as RGB.       \n",
    "tableau20 = [(31, 119, 180), (174, 199, 232), (255, 127, 14), (255, 187, 120),  \n",
    "             (44, 160, 44), (152, 223, 138), (214, 39, 40), (255, 152, 150),  \n",
    "             (148, 103, 189), (197, 176, 213), (140, 86, 75), (196, 156, 148),  \n",
    "             (227, 119, 194), (247, 182, 210), (127, 127, 127), (199, 199, 199),  \n",
    "             (188, 189, 34), (219, 219, 141), (23, 190, 207), (158, 218, 229)]\n",
    "# Scale the RGB values to the [0, 1] range, which is the format matplotlib accepts.    \n",
    "for i in range(len(tableau20)):    \n",
    "    r, g, b = tableau20[i]    \n",
    "    tableau20[i] = (r / 255., g / 255., b / 255.)  "
   ]
  },
  {
   "cell_type": "markdown",
   "metadata": {
    "deletable": true,
    "editable": true
   },
   "source": [
    "# Read data"
   ]
  },
  {
   "cell_type": "code",
   "execution_count": null,
   "metadata": {
    "deletable": true,
    "editable": true
   },
   "outputs": [],
   "source": [
    "data_paths = []\n",
    "data_paths.append( os.pardir + '/data/2017-04-07_1312_rIt' )"
   ]
  },
  {
   "cell_type": "code",
   "execution_count": null,
   "metadata": {
    "deletable": true,
    "editable": true
   },
   "outputs": [],
   "source": [
    "L_set = np.array([6])\n",
    "max_t = '3000.0'\n",
    "dt = '0.1'\n",
    "T_set = np.arange(1,11)\n",
    "dpsi_set = np.arange(1,11)\n",
    "J = '1.0'\n",
    "K = '0.1'\n",
    "samples = 100\n",
    "#\n",
    "temps = np.array([ 10**( -2 + 2./9*(T-1) ) for T in T_set ])\n",
    "dpsis = np.array([ 10**( -2 + 2./9*(dp-1) ) for dp in dpsi_set ])\n",
    "times = np.arange( 0.,float(max_t),float(dt) )"
   ]
  },
  {
   "cell_type": "code",
   "execution_count": null,
   "metadata": {
    "deletable": true,
    "editable": true
   },
   "outputs": [],
   "source": [
    "def read_data( L_,T_,dpsi_,sample_,search_dirs=data_paths ):\n",
    "    for dpath in search_dirs:\n",
    "        try:\n",
    "            filename = 'response-current_NV_L'+str(L_)+'_T'+str(T_)+'_tmax'+max_t+'_dt'+dt+'_J'+J+'_K'+K+'_dpsi'+str(dpsi_)+'_sample'+str(sample_)+'.json'\n",
    "            with open( dpath+'/'+filename, 'r') as file:\n",
    "                data = json.load( file, cls=jscicoding.NumericDecoder )\n",
    "            return data\n",
    "        except IOError:\n",
    "            pass\n",
    "        except ValueError:\n",
    "            # print 'corrupt data file ',dpath+'/'+filename\n",
    "            pass\n",
    "    raise IOError"
   ]
  },
  {
   "cell_type": "code",
   "execution_count": null,
   "metadata": {
    "deletable": true,
    "editable": true
   },
   "outputs": [],
   "source": [
    "def load_data( L_,T_,dpsi_ ):\n",
    "    print 'L : ',L_,', T : ',T_,', dpsi : ',dpsi_\n",
    "    # read the first sample as the base data file\n",
    "    for sample in range(1,samples+1):\n",
    "        try:\n",
    "            data = read_data(L_,T_,dpsi_,sample)\n",
    "            break\n",
    "        except IOError:\n",
    "            if sample==samples:\n",
    "                print 'found no files for ',(L,T)\n",
    "                raise IOError\n",
    "            pass\n",
    "    \n",
    "    # rearrange the data to have the time series in an easier format\n",
    "    data['xcurr'] = np.zeros(len(data['time_series']))\n",
    "    data['zcurr'] = np.zeros(len(data['time_series']))\n",
    "    dpsi = float(dpsi_)\n",
    "    \n",
    "    # iterate over the rest of the samples, and combine time-series data\n",
    "    samples_found = 0\n",
    "    for directory in [ '2017-04-07_1312_rIt' ]:\n",
    "        for sample in range(1,samples+1):\n",
    "            try:\n",
    "                temp = read_data(L_,T_,dpsi_,sample,search_dirs=[ os.pardir+'/data/'+directory ])\n",
    "                tempx = []\n",
    "                tempz = []\n",
    "                for t_series in temp['time_series']:\n",
    "                    tempx.append(t_series['x']*(1./(2*L_)))\n",
    "                    tempz.append(t_series['z']*(1./(2*L_)))\n",
    "                data['xcurr'] = data['xcurr'] + np.array(tempx)\n",
    "                data['zcurr'] = data['zcurr'] + np.array(tempz)\n",
    "                samples_found = samples_found+1\n",
    "            except IOError:\n",
    "                #print 'could not find file for ',(L,T,sample)\n",
    "                pass\n",
    "            \n",
    "    # normalise by number of samples\n",
    "    print 'found sample : ',samples_found\n",
    "    data['samples_found'] = samples_found\n",
    "    data['xcurr'] = 1./samples_found * data['xcurr']\n",
    "    data['zcurr'] = 1./samples_found * data['zcurr']\n",
    "        \n",
    "    # correct x-component\n",
    "    data['xcurr'] = 2./np.sqrt(3) * (np.array(data['xcurr']) + 0.5*np.array(data['zcurr']))\n",
    "        \n",
    "    return data"
   ]
  },
  {
   "cell_type": "raw",
   "metadata": {
    "hide_input": true
   },
   "source": [
    "    #data['xcurr'] = np.lib.pad( data['xcurr'], (len(times)-len(data['xcurr']),0), 'constant' )\n",
    "    #data['zcurr'] = np.lib.pad( data['zcurr'], (len(times)-len(data['zcurr']),0), 'constant' )\n",
    "    \n",
    "    N = len(times)\n",
    "    #xf = np.linspace(0.0, 1.0/(2.0*float(dt)), N/2)\n",
    "    xf = spft.fftfreq(N, d=float(dt))\n",
    "    data['freq'] = xf[:N/2]\n",
    "\n",
    "    # get blackman window\n",
    "    # w = spsig.blackman(N)\n",
    "    one_over_s = 1800.\n",
    "    w = spsig.exponential(N,0,tau=one_over_s,sym=False)\n",
    "    data['w'] = w\n",
    "\n",
    "    # smoothing parameters\n",
    "    swindow = 11\n",
    "    spoly = 4\n",
    "    \n",
    "    # FFT windowed signal\n",
    "    spectrum = spft.fft( w*np.real(data['xcurr']) )\n",
    "    data['xspectrum'] = spectrum[:N/2]\n",
    "    data['smooth_xspectrum'] = sp.signal.savgol_filter(data['xspectrum'].real,swindow,spoly) + 1j*sp.signal.savgol_filter(data['xspectrum'].imag,swindow,spoly)\n",
    "    spectrum = spft.fft( w*np.real(data['zcurr']) )\n",
    "    data['zspectrum'] = spectrum[:N/2]\n",
    "    data['smooth_zspectrum'] = sp.signal.savgol_filter(data['zspectrum'].real,swindow,spoly) + 1j*sp.signal.savgol_filter(data['zspectrum'].imag,swindow,spoly)\n",
    "    \n",
    "    # z-power spectrum\n",
    "    s = (1./one_over_s + 1j*data['freq'])\n",
    "    data['zpower'] = s*data['zspectrum']\n",
    "    data['smooth_zpower'] = sp.signal.savgol_filter(data['zpower'].real,swindow,spoly) + 1j*sp.signal.savgol_filter(data['zpower'].imag,swindow,spoly)\n",
    "    \n",
    "    # x-power spectrum\n",
    "    data['xpower'] = s*data['xspectrum']\n",
    "    data['smooth_xpower'] = sp.signal.savgol_filter(data['xpower'].real,swindow,spoly) + 1j*sp.signal.savgol_filter(data['xpower'].imag,swindow,spoly)\n",
    "    \n",
    "    # compute the zero-frequency component from a direct integral\n",
    "    data['xintegral'] = spint.simps( data['xcurr'],times )\n",
    "    data['zintegral'] = spint.simps( data['zcurr'],times )"
   ]
  },
  {
   "cell_type": "code",
   "execution_count": null,
   "metadata": {
    "deletable": true,
    "editable": true
   },
   "outputs": [],
   "source": [
    "data = {}\n",
    "for L in L_set:\n",
    "    for T in T_set:\n",
    "        for dpsi in dpsi_set:\n",
    "            try:\n",
    "                data[L,T,dpsi] = load_data(L,T,dpsi)\n",
    "            except IOError:\n",
    "                pass"
   ]
  },
  {
   "cell_type": "markdown",
   "metadata": {
    "deletable": true,
    "editable": true
   },
   "source": [
    "# Analyse"
   ]
  },
  {
   "cell_type": "markdown",
   "metadata": {},
   "source": [
    "## Plot the time-series"
   ]
  },
  {
   "cell_type": "code",
   "execution_count": null,
   "metadata": {
    "deletable": true,
    "editable": true
   },
   "outputs": [],
   "source": [
    "L = 6\n",
    "T = 8\n",
    "print 'T : ',temps[T]\n",
    "for dpsi in dpsi_set:\n",
    "    print 'dpsi : ',dpsi\n",
    "    \n",
    "    fig,ax = plt.subplots()\n",
    "    plt.plot( times,data[L,T,dpsi]['xcurr'],'.-' )\n",
    "    plt.plot( times,data[L,T,dpsi]['zcurr'],'.-' )\n",
    "    #plt.plot( times[1:],spint.cumtrapz(data[L,T,dpsi]['zcurr'],dx=float(dt)),'.-' )\n",
    "    plt.xlabel(r'$t$')\n",
    "    plt.ylabel(r'$I$')\n",
    "    #ax.set_xlim([0,5])\n",
    "\n",
    "    #plt.savefig( 'quench-response-currents-lowT.pdf', bbox_inches='tight', transparency=True )\n",
    "    plt.show()"
   ]
  },
  {
   "cell_type": "markdown",
   "metadata": {},
   "source": [
    "# Investigate s->0 limit"
   ]
  },
  {
   "cell_type": "markdown",
   "metadata": {
    "deletable": true,
    "editable": true
   },
   "source": [
    "We compute the Laplace transform of the signal in the s->0 limit, where the limit is taken along on the real axis."
   ]
  },
  {
   "cell_type": "code",
   "execution_count": null,
   "metadata": {},
   "outputs": [],
   "source": [
    "def lin_fit(x,a,b):\n",
    "    return a*x + b"
   ]
  },
  {
   "cell_type": "code",
   "execution_count": null,
   "metadata": {
    "deletable": true,
    "editable": true
   },
   "outputs": [],
   "source": [
    "s_vals = 1./np.linspace(100,600,20)\n",
    "for L in L_set:\n",
    "    for dpsi in dpsi_set:\n",
    "        \n",
    "        print 'L : ',L,' dpsi : ',dpsi\n",
    "        fig,(ax1,ax2) = plt.subplots(1,2)\n",
    "        for T in T_set:\n",
    "\n",
    "            try:\n",
    "                x_series = []\n",
    "                y_series = []\n",
    "                for s in s_vals:\n",
    "                    x_series.append(spint.simps(data[L,T,dpsi]['xcurr']*np.exp(-s*times),dx=float(dt)))\n",
    "                    y_series.append(spint.simps(data[L,T,dpsi]['zcurr']*np.exp(-s*times),dx=float(dt)))\n",
    "                data_line1, = ax1.plot( 1./s_vals,x_series,'o',label=r'$T=$'+\"{0:.2g}\".format(temps[T-1]) )\n",
    "                data_line2, = ax2.plot( 1./s_vals,y_series,'o',label=r'$T=$'+\"{0:.2g}\".format(temps[T-1]) )\n",
    "                \n",
    "                # try to fit\n",
    "                popt, pcov = scop.curve_fit(lin_fit, 1./s_vals,x_series)\n",
    "                xfit=np.linspace(1./s_vals[-1],1./s_vals[0],60)\n",
    "                ax1.plot( xfit,lin_fit(xfit,*popt),color=data_line1.get_color() )\n",
    "                data[L,T,dpsi]['Dx'] = popt[0]\n",
    "                data[L,T,dpsi]['Cx'] = popt[1]\n",
    "                #\n",
    "                popt, pcov = scop.curve_fit(lin_fit, 1./s_vals,y_series)\n",
    "                xfit=np.linspace(1./s_vals[-1],1./s_vals[0],60)\n",
    "                ax2.plot( xfit,lin_fit(xfit,*popt),color=data_line2.get_color() )\n",
    "                data[L,T,dpsi]['Dy'] = popt[0]\n",
    "                data[L,T,dpsi]['Cy'] = popt[1]\n",
    "                \n",
    "            except KeyError:\n",
    "                pass\n",
    "\n",
    "        ax1.set_title('$x$-dirn')\n",
    "        ax1.set_xlabel(r'$1/s$')\n",
    "        ax1.legend(loc=3)\n",
    "        ax2.plot( [],[] )\n",
    "        ax2.set_title('$y$-dirn')\n",
    "        ax2.set_xlabel(r'$1/s$')\n",
    "        #ax2.legend(loc=3)\n",
    "        plt.show()\n",
    "        "
   ]
  },
  {
   "cell_type": "code",
   "execution_count": null,
   "metadata": {},
   "outputs": [],
   "source": [
    "s_vals = 1./np.linspace(100,600,20)\n",
    "for L in L_set:\n",
    "    for T in T_set:\n",
    "        print 'L : ',L,' T : ',temps[T-1]\n",
    "        fig,(ax1,ax2) = plt.subplots(1,2)\n",
    "        x_series = []\n",
    "        y_series = []\n",
    "        dpsi_vals = []\n",
    "        for dpsi in dpsi_set:\n",
    "            try:\n",
    "                x_series.append(data[L,T,dpsi]['Dx'])\n",
    "                y_series.append(data[L,T,dpsi]['Dy'])\n",
    "                dpsi_vals.append(dpsis[dpsi-1])\n",
    "            except KeyError:\n",
    "                pass\n",
    "\n",
    "        ax1.plot( dpsi_vals,x_series,'o-' )\n",
    "        ax2.plot( dpsi_vals,y_series,'o-' )\n",
    "\n",
    "        ax1.set_title('$x$-dirn')\n",
    "        ax1.set_xlabel(r'$\\Delta \\phi$')\n",
    "        ax1.set_ylabel(r'$D_x$')\n",
    "        ax1.legend(loc=3)\n",
    "        ax2.plot( [],[] )\n",
    "        ax2.set_title('$y$-dirn')\n",
    "        ax2.set_xlabel(r'$\\Delta \\phi$')\n",
    "        ax2.set_ylabel(r'$D_y$')\n",
    "        #ax2.legend(loc=3)\n",
    "        fig.tight_layout()\n",
    "        plt.show()\n"
   ]
  },
  {
   "cell_type": "code",
   "execution_count": null,
   "metadata": {},
   "outputs": [],
   "source": [
    "s_vals = 1./np.linspace(100,600,20)\n",
    "for L in L_set:\n",
    "    for T in T_set:\n",
    "        print 'L : ',L,' T : ',temps[T-1]\n",
    "        fig,(ax1,ax2) = plt.subplots(1,2)\n",
    "        x_series = []\n",
    "        y_series = []\n",
    "        dpsi_vals = []\n",
    "        for dpsi in dpsi_set:\n",
    "            try:\n",
    "                x_series.append(data[L,T,dpsi]['Cx'])\n",
    "                y_series.append(data[L,T,dpsi]['Cy'])\n",
    "                dpsi_vals.append(dpsis[dpsi-1])\n",
    "            except KeyError:\n",
    "                pass\n",
    "\n",
    "        ax1.plot([],[])\n",
    "        ax1.plot( dpsi_vals,x_series,'o-' )\n",
    "        ax2.plot([],[])\n",
    "        ax2.plot( dpsi_vals,y_series,'o-' )\n",
    "\n",
    "        ax1.set_title('$x$-dirn')\n",
    "        ax1.set_xlabel(r'$\\Delta \\phi$')\n",
    "        ax1.set_ylabel(r'$C_x$')\n",
    "        ax1.legend(loc=3)\n",
    "        ax2.plot( [],[] )\n",
    "        ax2.set_title('$y$-dirn')\n",
    "        ax2.set_xlabel(r'$\\Delta \\phi$')\n",
    "        ax2.set_ylabel(r'$C_y$')\n",
    "        #ax2.legend(loc=3)\n",
    "        fig.tight_layout()\n",
    "        plt.show()\n"
   ]
  },
  {
   "cell_type": "code",
   "execution_count": null,
   "metadata": {
    "deletable": true,
    "editable": true
   },
   "outputs": [],
   "source": [
    "for L in L_set:\n",
    "    print 'L : ',L\n",
    "    fig,ax = plt.subplots()\n",
    "    for T in T_set[::3]:\n",
    "        dataline, = plt.plot( data[L,T]['freq'],data[L,T]['zpower'].real,',')\n",
    "        plt.plot( data[L,T]['freq'],data[L,T]['smooth_zpower'].real,'-',label=r'$T=$'+\"{0:.2g}\".format(temps[T-T_set[0]]),color=dataline.get_color() )\n",
    "    plt.xlabel(r'$\\nu$')\n",
    "    plt.ylabel(r'$| \\, H( \\, ^1 \\! /_{200} + 2\\pi i\\nu \\, ) \\, |$')\n",
    "    plt.xlim([-0.01,1.])\n",
    "    #plt.ylim([-10,10])\n",
    "    plt.legend(loc=4)\n",
    "    #ax.set_yscale('log')\n",
    "\n",
    "    #plt.savefig( 'long_curr-curr-'+correl+'.pdf',  bbox_extra_artist=(leg,), bbox_inches='tight', transparency=True )\n",
    "    plt.show()"
   ]
  },
  {
   "cell_type": "code",
   "execution_count": null,
   "metadata": {
    "deletable": true,
    "editable": true
   },
   "outputs": [],
   "source": [
    "for L in L_set:\n",
    "    print 'L : ',L\n",
    "    fig,ax = plt.subplots()\n",
    "    for T in T_set[::3]:\n",
    "        dataline, = plt.plot( data[L,T]['freq'],data[L,T]['xpower'].real,',')\n",
    "        plt.plot( data[L,T]['freq'],data[L,T]['smooth_xpower'].real,'-',label=r'$T=$'+\"{0:.2g}\".format(temps[T-T_set[0]]),color=dataline.get_color() )\n",
    "    plt.xlabel(r'$\\nu$')\n",
    "    plt.ylabel(r'$| \\, H( \\, ^1 \\! /_{200} + 2\\pi i\\nu \\, ) \\, |$')\n",
    "    plt.xlim([-0.01,0.5])\n",
    "    #plt.ylim([-10,10])\n",
    "    plt.legend(loc=4)\n",
    "    #ax.set_yscale('log')\n",
    "\n",
    "    #plt.savefig( 'long_curr-curr-'+correl+'.pdf',  bbox_extra_artist=(leg,), bbox_inches='tight', transparency=True )\n",
    "    plt.show()"
   ]
  },
  {
   "cell_type": "raw",
   "metadata": {
    "deletable": true,
    "editable": true
   },
   "source": [
    "s = (1./200 + 1j*freqs)\n",
    "s = 1.\n",
    "for T in T_set[::3]:\n",
    "    print 'T : ',T\n",
    "    fig,ax = plt.subplots()\n",
    "    prev_L = L_set[0]\n",
    "    for L in L_set[1:]:\n",
    "        dataline, = plt.plot( freqs,np.abs(s*data[L,T]['xspectrum'])-np.abs(s*data[prev_L,T]['xspectrum']),',')\n",
    "        plt.plot( freqs,np.abs(s*data[L,T]['smooth_xspectrum'])-np.abs(s*data[prev_L,T]['smooth_xspectrum']),'-',label=r'$L=$'+str(L),color=dataline.get_color() )\n",
    "    plt.plot( [freqs[0],freqs[-1]],[0,0],'k--' )\n",
    "    plt.xlabel(r'$\\nu$')\n",
    "    plt.ylabel(r'$| \\, H( \\, ^1 \\! /_{200} + 2\\pi i\\nu \\, ) \\, |$')\n",
    "    #plt.xlim([+0.01,5])\n",
    "    plt.ylim([-0.001,0.001])\n",
    "    plt.legend(bbox_to_anchor=(1.,1.))\n",
    "    #ax.set_yscale('log')\n",
    "\n",
    "    #plt.savefig( 'long_curr-curr-'+correl+'.pdf',  bbox_extra_artist=(leg,), bbox_inches='tight', transparency=True )\n",
    "    plt.show()"
   ]
  },
  {
   "cell_type": "markdown",
   "metadata": {
    "deletable": true,
    "editable": true
   },
   "source": [
    "Output the I(L,T,\\omega=0) values"
   ]
  },
  {
   "cell_type": "code",
   "execution_count": null,
   "metadata": {
    "deletable": true,
    "editable": true
   },
   "outputs": [],
   "source": [
    "fig,ax = plt.subplots()\n",
    "runtimes = []\n",
    "for L in L_set:\n",
    "    max_runtime = 0.\n",
    "    for T in T_set:\n",
    "        max_runtime = max([ data[L,T]['run_time'], max_runtime ])\n",
    "    runtimes.append(max_runtime / 3600.)\n",
    "plt.plot( L_set,runtimes,'o-')\n",
    "\n",
    "plt.xlabel(r'$L$')\n",
    "plt.ylabel('run time / hours')\n",
    "plt.legend(loc=4,fontsize=16)\n",
    "#ax.set_yscale('log')\n",
    "\n",
    "#plt.savefig( 'long_curr-curr-'+correl+'.pdf',  bbox_extra_artist=(leg,), bbox_inches='tight', transparency=True )\n",
    "plt.show()"
   ]
  },
  {
   "cell_type": "code",
   "execution_count": null,
   "metadata": {
    "deletable": true,
    "editable": true
   },
   "outputs": [],
   "source": [
    "L = 16\n",
    "max_runtime = 0.\n",
    "for T in T_set:\n",
    "    max_runtime = max([ data[L,T]['run_time'], max_runtime ])\n",
    "print max_runtime/3600."
   ]
  },
  {
   "cell_type": "code",
   "execution_count": null,
   "metadata": {},
   "outputs": [],
   "source": [
    "fig,ax = plt.subplots()\n",
    "for L in L_set:\n",
    "    L_series = []\n",
    "    for T in T_set:\n",
    "        L_series.append( np.real(data[L,T]['zspectrum'][0]) )\n",
    "    plt.plot( temps,L_series,'o-',label=r'$L=$'+str(L) )\n",
    "\n",
    "plt.plot( temps,[0. for x in temps], 'k--' )\n",
    "plt.xlabel(r'$T$')\n",
    "#plt.ylabel(r'$L \\,\\cdot \\, \\mathcal{F} \\, [I_x]( \\omega = 0 )$')\n",
    "plt.legend(loc=4,fontsize=16)\n",
    "#plt.xlim([0,0.5])\n",
    "#plt.ylim([0,200])\n",
    "ax.semilogx()\n",
    "\n",
    "#plt.savefig( 'response-current-X.pdf', bbox_inches='tight', transparency=True )\n",
    "plt.show()"
   ]
  },
  {
   "cell_type": "code",
   "execution_count": null,
   "metadata": {},
   "outputs": [],
   "source": [
    "fig,ax = plt.subplots()\n",
    "for L in L_set:\n",
    "    L_series = []\n",
    "    for T in T_set:\n",
    "        L_series.append( np.real(data[L,T]['xpower'][0]) )\n",
    "    plt.plot( temps,L_series,'o-',label=r'$L=$'+str(L) )\n",
    "\n",
    "plt.plot( temps,[0. for x in temps], 'k--' )\n",
    "plt.xlabel(r'$T$')\n",
    "#plt.ylabel(r'$L \\,\\cdot \\, \\mathcal{F} \\, [I_x]( \\omega = 0 )$')\n",
    "plt.legend(loc=4,fontsize=16)\n",
    "#plt.xlim([0,0.5])\n",
    "plt.ylim([-0.1,0.1])\n",
    "ax.semilogx()\n",
    "\n",
    "#plt.savefig( 'response-current-X.pdf', bbox_inches='tight', transparency=True )\n",
    "plt.show()"
   ]
  },
  {
   "cell_type": "code",
   "execution_count": null,
   "metadata": {
    "deletable": true,
    "editable": true
   },
   "outputs": [],
   "source": [
    "fig,ax = plt.subplots()\n",
    "for L in L_set:\n",
    "    L_series = []\n",
    "    for T in T_set:\n",
    "        L_series.append( np.real(data[L,T]['xpower'][0]/(1-data[L,T]['zspectrum'][0])) )\n",
    "    plt.plot( temps,np.array(L_series),'o-',label=r'$L=$'+str(L) )\n",
    "\n",
    "plt.plot( temps,[0. for x in temps], 'k--' )\n",
    "plt.xlabel(r'$T$')\n",
    "#plt.ylabel(r'$L \\,\\cdot \\, \\mathcal{F} \\, [I_x]( \\omega = 0 )$')\n",
    "plt.legend(loc=4,fontsize=16)\n",
    "#plt.xlim([0,0.5])\n",
    "#plt.ylim([-0.1,0.1])\n",
    "\n",
    "#plt.savefig( 'response-current-X.pdf', bbox_inches='tight', transparency=True )\n",
    "plt.show()"
   ]
  },
  {
   "cell_type": "code",
   "execution_count": null,
   "metadata": {
    "deletable": true,
    "editable": true
   },
   "outputs": [],
   "source": [
    "fig,ax = plt.subplots()\n",
    "for L in L_set:\n",
    "    L_series = []\n",
    "    for T in T_set:\n",
    "        L_series.append( data[L,T]['zintegral'] )\n",
    "    plt.plot( temps,L_series,'o-',label=r'$L=$'+str(L) )\n",
    "\n",
    "plt.xlabel(r'$T$')\n",
    "plt.ylabel(r'$L \\,\\cdot \\, \\mathcal{F} \\, [I_z](\\omega = 0 )$')\n",
    "plt.legend(loc=4,fontsize=16)\n",
    "#plt.xlim([0,0.2])\n",
    "#plt.ylim([0,0.03])\n",
    "\n",
    "#plt.savefig( 'response-current-Z.pdf', bbox_inches='tight', transparency=True )\n",
    "plt.show()"
   ]
  },
  {
   "cell_type": "code",
   "execution_count": null,
   "metadata": {
    "deletable": true,
    "editable": true
   },
   "outputs": [],
   "source": []
  }
 ],
 "metadata": {
  "hide_input": false,
  "kernelspec": {
   "display_name": "Python 2",
   "language": "python",
   "name": "python2"
  },
  "language_info": {
   "codemirror_mode": {
    "name": "ipython",
    "version": 2
   },
   "file_extension": ".py",
   "mimetype": "text/x-python",
   "name": "python",
   "nbconvert_exporter": "python",
   "pygments_lexer": "ipython2"
  },
  "toc": {
   "toc_cell": false,
   "toc_number_sections": true,
   "toc_threshold": 6,
   "toc_window_display": false
  }
 },
 "nbformat": 4,
 "nbformat_minor": 0
}
