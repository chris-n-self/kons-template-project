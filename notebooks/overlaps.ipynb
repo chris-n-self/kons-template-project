{
 "cells": [
  {
   "cell_type": "markdown",
   "metadata": {},
   "source": [
    "# Import libraries"
   ]
  },
  {
   "cell_type": "code",
   "execution_count": null,
   "metadata": {},
   "outputs": [],
   "source": [
    "import os\n",
    "import sys\n",
    "import json\n",
    "import csv\n",
    "\n",
    "# numeric, scientific\n",
    "from scipy import linalg as spla\n",
    "import numpy as np\n",
    "\n",
    "# plotting\n",
    "%matplotlib inline\n",
    "import matplotlib\n",
    "from mpl_toolkits.mplot3d import axes3d\n",
    "from matplotlib import cm\n",
    "import matplotlib.pyplot as plt\n",
    "\n",
    "# import Kitaev Honeycomb package\n",
    "import kithcmb\n",
    "from kithcmb import ThermalGradient as gradvs\n",
    "from kithcmb import VortexSectorThermalFermions as nongradvs\n",
    "\n",
    "# import jsci, CT's enhanced json stream write package\n",
    "import jsci\n",
    "from jsci import WriteStream as jsciwrite\n",
    "from jsci import Coding as jscicoding"
   ]
  },
  {
   "cell_type": "code",
   "execution_count": null,
   "metadata": {},
   "outputs": [],
   "source": [
    "plt.style.use('prettyfigs')"
   ]
  },
  {
   "cell_type": "markdown",
   "metadata": {},
   "source": [
    "# Set system parameters and initialise "
   ]
  },
  {
   "cell_type": "code",
   "execution_count": null,
   "metadata": {},
   "outputs": [],
   "source": [
    "L = 30\n",
    "J = 1.\n",
    "kappa = 0.1"
   ]
  },
  {
   "cell_type": "code",
   "execution_count": null,
   "metadata": {},
   "outputs": [],
   "source": [
    "non_grad_sys = nongradvs.VortexSectorThermalFermions(L,J,kappa)\n",
    "grad_sys = gradvs.ThermalGradient(L,J,kappa,d_psi=0.1)"
   ]
  },
  {
   "cell_type": "code",
   "execution_count": null,
   "metadata": {},
   "outputs": [],
   "source": [
    "print 'JX'\n",
    "plt.figure( figsize=(10,10) )\n",
    "plt.imshow(non_grad_sys.Jx,interpolation='nearest',cmap='viridis')\n",
    "plt.colorbar()\n",
    "plt.show()\n",
    "\n",
    "print 'JY'\n",
    "plt.figure( figsize=(10,10) )\n",
    "plt.imshow(non_grad_sys.Jx,interpolation='nearest',cmap='viridis')\n",
    "plt.colorbar()\n",
    "plt.show()\n",
    "\n",
    "print 'JZ'\n",
    "plt.figure( figsize=(10,10) )\n",
    "plt.imshow(non_grad_sys.Jx,interpolation='nearest',cmap='viridis')\n",
    "plt.colorbar()\n",
    "plt.show()"
   ]
  },
  {
   "cell_type": "code",
   "execution_count": null,
   "metadata": {},
   "outputs": [],
   "source": [
    "print 'JX'\n",
    "plt.figure( figsize=(10,10) )\n",
    "plt.imshow(grad_sys.Jx,interpolation='nearest',cmap='viridis')\n",
    "plt.colorbar()\n",
    "plt.show()\n",
    "\n",
    "print 'JY'\n",
    "plt.figure( figsize=(10,10) )\n",
    "plt.imshow(grad_sys.Jx,interpolation='nearest',cmap='viridis')\n",
    "plt.colorbar()\n",
    "plt.show()\n",
    "\n",
    "print 'JZ'\n",
    "plt.figure( figsize=(10,10) )\n",
    "plt.imshow(grad_sys.Jx,interpolation='nearest',cmap='viridis')\n",
    "plt.colorbar()\n",
    "plt.show()"
   ]
  },
  {
   "cell_type": "markdown",
   "metadata": {},
   "source": [
    "Plot the spectrum"
   ]
  },
  {
   "cell_type": "code",
   "execution_count": null,
   "metadata": {},
   "outputs": [],
   "source": [
    "plt.figure( figsize=(14,15) )\n",
    "plt.plot(non_grad_sys.spectrum,'.')\n",
    "plt.plot(grad_sys.spectrum,'.')"
   ]
  },
  {
   "cell_type": "markdown",
   "metadata": {},
   "source": [
    "# Project non-grad wavefunc to grad basis"
   ]
  },
  {
   "cell_type": "code",
   "execution_count": null,
   "metadata": {},
   "outputs": [],
   "source": [
    "non_grad_eigvecs = non_grad_sys._get_eigenvectors()\n",
    "\n",
    "# symmetrise the part/hole wavefuncs properly\n",
    "#for n in np.arange(L**2):\n",
    "#    non_grad_eigvecs[:,n] = -1j*np.conj(non_grad_eigvecs[:,-n])"
   ]
  },
  {
   "cell_type": "code",
   "execution_count": null,
   "metadata": {},
   "outputs": [],
   "source": [
    "grad_eigvecs = grad_sys._get_eigenvectors()\n",
    "\n",
    "# symmetrise the part/hole wavefuncs properly\n",
    "#for m in np.arange(L**2):\n",
    "#    grad_eigvecs[:,m] = -1j*np.conj(grad_eigvecs[:,-m])"
   ]
  },
  {
   "cell_type": "markdown",
   "metadata": {},
   "source": [
    "compute overlap between mode *m* of the grad-sys and mode *n* of the non-grad sys"
   ]
  },
  {
   "cell_type": "code",
   "execution_count": null,
   "metadata": {},
   "outputs": [],
   "source": [
    "overlaps = np.zeros((2*L**2,2*L**2),dtype='complex128')\n",
    "for m in np.arange(2*L**2):\n",
    "    for n in np.arange(2*L**2):\n",
    "        overlaps[n,m] = np.sum( np.conj(grad_eigvecs[:,m]) * non_grad_eigvecs[:,n] )"
   ]
  },
  {
   "cell_type": "code",
   "execution_count": null,
   "metadata": {},
   "outputs": [],
   "source": [
    "print 'REAL'\n",
    "plt.figure( figsize=(10,10) )\n",
    "plt.imshow( np.real(overlaps),interpolation='nearest',cmap='viridis')\n",
    "plt.colorbar()\n",
    "plt.show()\n",
    "\n",
    "print 'IMAG'\n",
    "plt.figure( figsize=(10,10) )\n",
    "plt.imshow( np.imag(overlaps),interpolation='nearest',cmap='viridis')\n",
    "plt.colorbar()\n",
    "plt.show()\n",
    "\n",
    "print 'IMAG'\n",
    "plt.figure( figsize=(10,10) )\n",
    "plt.imshow( np.abs(overlaps)**2,interpolation='nearest',cmap='viridis')\n",
    "plt.colorbar()\n",
    "plt.show()"
   ]
  },
  {
   "cell_type": "markdown",
   "metadata": {},
   "source": [
    "Check that overlaps * overlaps^\\dagger = identity"
   ]
  },
  {
   "cell_type": "code",
   "execution_count": null,
   "metadata": {},
   "outputs": [],
   "source": [
    "prod = np.dot(np.matrix(overlaps).getH(),overlaps)\n",
    "\n",
    "print 'REAL'\n",
    "plt.figure( figsize=(10,10) )\n",
    "plt.imshow( np.real(prod),interpolation='nearest',cmap='viridis')\n",
    "plt.colorbar()\n",
    "plt.show()\n",
    "\n",
    "print 'IMAG'\n",
    "plt.figure( figsize=(10,10) )\n",
    "plt.imshow( np.imag(prod),interpolation='nearest',cmap='viridis')\n",
    "plt.colorbar()\n",
    "plt.show()\n",
    "\n",
    "print 'IMAG'\n",
    "plt.figure( figsize=(10,10) )\n",
    "plt.imshow( np.abs(prod)**2,interpolation='nearest',cmap='viridis')\n",
    "plt.colorbar()\n",
    "plt.show()"
   ]
  },
  {
   "cell_type": "markdown",
   "metadata": {},
   "source": [
    "## Plot the non-grad wavefuncs in real-space using after this basis change"
   ]
  },
  {
   "cell_type": "code",
   "execution_count": null,
   "metadata": {},
   "outputs": [],
   "source": [
    "n = 0"
   ]
  },
  {
   "cell_type": "code",
   "execution_count": null,
   "metadata": {},
   "outputs": [],
   "source": [
    "new_ng_eigvec1 = np.sum( np.array([ overlaps[n,m]*grad_eigvecs[:,m] for m in np.arange(2*L**2)]), axis=0)\n",
    "new_ng_eigvec1 = np.reshape(new_ng_eigvec1,(2*L,L))"
   ]
  },
  {
   "cell_type": "code",
   "execution_count": null,
   "metadata": {},
   "outputs": [],
   "source": [
    "print 'REAL'\n",
    "plt.figure( figsize=(10,10) )\n",
    "plt.imshow( np.real(new_ng_eigvec1),interpolation='nearest',cmap='viridis')\n",
    "plt.colorbar()\n",
    "plt.show()\n",
    "\n",
    "print 'IMAG'\n",
    "plt.figure( figsize=(10,10) )\n",
    "plt.imshow( np.imag(new_ng_eigvec1),interpolation='nearest',cmap='viridis')\n",
    "plt.colorbar()\n",
    "plt.show()\n",
    "\n",
    "print 'ABS'\n",
    "plt.figure( figsize=(10,10) )\n",
    "plt.imshow( np.abs(new_ng_eigvec1)**2,interpolation='nearest',cmap='viridis')\n",
    "plt.colorbar()\n",
    "plt.show()"
   ]
  },
  {
   "cell_type": "code",
   "execution_count": null,
   "metadata": {},
   "outputs": [],
   "source": [
    "print np.sum(np.abs(new_ng_eigvec1)**2)"
   ]
  },
  {
   "cell_type": "code",
   "execution_count": null,
   "metadata": {},
   "outputs": [],
   "source": [
    "ng_eigvec1 = np.reshape(non_grad_eigvecs[:,n],(2*L,L))"
   ]
  },
  {
   "cell_type": "code",
   "execution_count": null,
   "metadata": {},
   "outputs": [],
   "source": [
    "print 'REAL'\n",
    "plt.figure( figsize=(10,10) )\n",
    "plt.imshow( np.real(ng_eigvec1),interpolation='nearest',cmap='viridis')\n",
    "plt.colorbar()\n",
    "plt.show()\n",
    "\n",
    "print 'IMAG'\n",
    "plt.figure( figsize=(10,10) )\n",
    "plt.imshow( np.imag(ng_eigvec1),interpolation='nearest',cmap='viridis')\n",
    "plt.colorbar()\n",
    "plt.show()\n",
    "\n",
    "print 'ABS'\n",
    "plt.figure( figsize=(10,10) )\n",
    "plt.imshow( np.abs(ng_eigvec1)**2,interpolation='nearest',cmap='viridis')\n",
    "plt.colorbar()\n",
    "plt.show()"
   ]
  },
  {
   "cell_type": "code",
   "execution_count": null,
   "metadata": {},
   "outputs": [],
   "source": [
    "print np.sum(np.abs(ng_eigvec1)**2)"
   ]
  },
  {
   "cell_type": "code",
   "execution_count": null,
   "metadata": {},
   "outputs": [],
   "source": [
    "print 'REAL'\n",
    "plt.figure( figsize=(10,10) )\n",
    "plt.imshow( np.real(ng_eigvec1-new_ng_eigvec1),interpolation='nearest',cmap='viridis')\n",
    "plt.colorbar()\n",
    "plt.show()\n",
    "\n",
    "print 'IMAG'\n",
    "plt.figure( figsize=(10,10) )\n",
    "plt.imshow( np.imag(ng_eigvec1-new_ng_eigvec1),interpolation='nearest',cmap='viridis')\n",
    "plt.colorbar()\n",
    "plt.show()\n",
    "\n",
    "print 'ABS'\n",
    "plt.figure( figsize=(10,10) )\n",
    "plt.imshow( np.abs(ng_eigvec1-new_ng_eigvec1)**2,interpolation='nearest',cmap='viridis')\n",
    "plt.colorbar()\n",
    "plt.show()"
   ]
  },
  {
   "cell_type": "markdown",
   "metadata": {},
   "source": [
    "# Probability of occupying grad-sys states from non-grad GS"
   ]
  },
  {
   "cell_type": "code",
   "execution_count": null,
   "metadata": {},
   "outputs": [],
   "source": [
    "T = 1.\n",
    "ferm_occs = non_grad_sys.get_fermionic_expectation_values(1./T)\n",
    "plt.plot(np.exp(ferm_occs[1]))\n",
    "plt.plot(np.exp(ferm_occs[2]))"
   ]
  },
  {
   "cell_type": "code",
   "execution_count": null,
   "metadata": {},
   "outputs": [],
   "source": [
    "np.sum( [ np.exp(ferm_occs[1][n])+np.exp(ferm_occs[2][n]) for n in np.arange(L**2) ] )"
   ]
  },
  {
   "cell_type": "markdown",
   "metadata": {},
   "source": [
    "## Construct the density matrix in the new basis"
   ]
  },
  {
   "cell_type": "code",
   "execution_count": null,
   "metadata": {},
   "outputs": [],
   "source": [
    "combined_fermionic_expectation_values = np.empty( 2 * L**2 )\n",
    "for m in range(L**2):\n",
    "    combined_fermionic_expectation_values[m] = np.exp( ferm_occs[2][m] )\n",
    "    combined_fermionic_expectation_values[2 * L**2 - 1 - m] = np.exp( ferm_occs[1][m] )\n",
    "combined_fermionic_expectation_values = np.diag( combined_fermionic_expectation_values )"
   ]
  },
  {
   "cell_type": "code",
   "execution_count": null,
   "metadata": {},
   "outputs": [],
   "source": [
    "print 'REAL'\n",
    "plt.figure( figsize=(10,10) )\n",
    "plt.imshow( np.real(combined_fermionic_expectation_values),interpolation='nearest',cmap='viridis')\n",
    "plt.colorbar()\n",
    "plt.show()\n",
    "\n",
    "print 'IMAG'\n",
    "plt.figure( figsize=(10,10) )\n",
    "plt.imshow( np.imag(combined_fermionic_expectation_values),interpolation='nearest',cmap='viridis')\n",
    "plt.colorbar()\n",
    "plt.show()\n",
    "\n",
    "print 'ABS'\n",
    "plt.figure( figsize=(10,10) )\n",
    "plt.imshow( np.abs(combined_fermionic_expectation_values)**2,interpolation='nearest',cmap='viridis')\n",
    "plt.colorbar()\n",
    "plt.show()"
   ]
  },
  {
   "cell_type": "code",
   "execution_count": null,
   "metadata": {},
   "outputs": [],
   "source": [
    "dens_mat = np.dot( np.matrix(overlaps).getH(),combined_fermionic_expectation_values )\n",
    "dens_mat = np.dot( dens_mat,overlaps )"
   ]
  },
  {
   "cell_type": "code",
   "execution_count": null,
   "metadata": {},
   "outputs": [],
   "source": [
    "print 'REAL'\n",
    "plt.figure( figsize=(10,10) )\n",
    "plt.imshow( np.real(dens_mat),interpolation='nearest',cmap='viridis')\n",
    "plt.colorbar()\n",
    "plt.show()\n",
    "\n",
    "print 'IMAG'\n",
    "plt.figure( figsize=(10,10) )\n",
    "plt.imshow( np.imag(dens_mat),interpolation='nearest',cmap='viridis')\n",
    "plt.colorbar()\n",
    "plt.show()\n",
    "\n",
    "print 'ABS'\n",
    "plt.figure( figsize=(10,10) )\n",
    "plt.imshow( np.abs(dens_mat)**2,interpolation='nearest',cmap='viridis')\n",
    "plt.colorbar()\n",
    "plt.show()"
   ]
  },
  {
   "cell_type": "code",
   "execution_count": null,
   "metadata": {},
   "outputs": [],
   "source": [
    "print 'REAL'\n",
    "plt.figure( figsize=(10,10) )\n",
    "plt.imshow( np.real(dens_mat-combined_fermionic_expectation_values),interpolation='nearest',cmap='viridis')\n",
    "plt.colorbar()\n",
    "plt.show()\n",
    "\n",
    "print 'IMAG'\n",
    "plt.figure( figsize=(10,10) )\n",
    "plt.imshow( np.imag(dens_mat-combined_fermionic_expectation_values),interpolation='nearest',cmap='viridis')\n",
    "plt.colorbar()\n",
    "plt.show()\n",
    "\n",
    "print 'ABS'\n",
    "plt.figure( figsize=(10,10) )\n",
    "plt.imshow( np.abs(dens_mat-combined_fermionic_expectation_values)**2,interpolation='nearest',cmap='viridis')\n",
    "plt.colorbar()\n",
    "plt.show()"
   ]
  },
  {
   "cell_type": "markdown",
   "metadata": {},
   "source": [
    "### Energy of this state compared to GS"
   ]
  },
  {
   "cell_type": "code",
   "execution_count": null,
   "metadata": {},
   "outputs": [],
   "source": [
    "H = np.diag(grad_sys.spectrum)"
   ]
  },
  {
   "cell_type": "code",
   "execution_count": null,
   "metadata": {},
   "outputs": [],
   "source": [
    "energy = np.trace( np.dot(H,dens_mat) )\n",
    "print 'energy : ',energy\n",
    "print 'GS energy : ',grad_sys.ground_state_energy"
   ]
  },
  {
   "cell_type": "markdown",
   "metadata": {},
   "source": [
    "## Time-evolve the density operator"
   ]
  },
  {
   "cell_type": "markdown",
   "metadata": {},
   "source": [
    "Time-evolution operator"
   ]
  },
  {
   "cell_type": "code",
   "execution_count": null,
   "metadata": {},
   "outputs": [],
   "source": [
    "t = 100.\n",
    "U = np.diag( np.exp(-1j * grad_sys.spectrum * t) )"
   ]
  },
  {
   "cell_type": "code",
   "execution_count": null,
   "metadata": {},
   "outputs": [],
   "source": [
    "print 'REAL'\n",
    "plt.figure( figsize=(10,10) )\n",
    "plt.imshow( np.real(U),interpolation='nearest',cmap='viridis')\n",
    "plt.colorbar()\n",
    "plt.show()\n",
    "\n",
    "print 'IMAG'\n",
    "plt.figure( figsize=(10,10) )\n",
    "plt.imshow( np.imag(U),interpolation='nearest',cmap='viridis')\n",
    "plt.colorbar()\n",
    "plt.show()\n",
    "\n",
    "print 'ABS'\n",
    "plt.figure( figsize=(10,10) )\n",
    "plt.imshow( np.abs(U)**2,interpolation='nearest',cmap='viridis')\n",
    "plt.colorbar()\n",
    "plt.show()"
   ]
  },
  {
   "cell_type": "code",
   "execution_count": null,
   "metadata": {},
   "outputs": [],
   "source": [
    "dens_mat_at_t = np.dot( U, dens_mat )\n",
    "dens_mat_at_t = np.dot( dens_mat_at_t, np.matrix(U).getH() )"
   ]
  },
  {
   "cell_type": "code",
   "execution_count": null,
   "metadata": {},
   "outputs": [],
   "source": [
    "print 'REAL'\n",
    "plt.figure( figsize=(10,10) )\n",
    "plt.imshow( np.real(dens_mat_at_t),interpolation='nearest',cmap='viridis')\n",
    "plt.colorbar()\n",
    "plt.show()\n",
    "\n",
    "print 'IMAG'\n",
    "plt.figure( figsize=(10,10) )\n",
    "plt.imshow( np.imag(dens_mat_at_t),interpolation='nearest',cmap='viridis')\n",
    "plt.colorbar()\n",
    "plt.show()\n",
    "\n",
    "print 'ABS'\n",
    "plt.figure( figsize=(10,10) )\n",
    "plt.imshow( np.abs(dens_mat_at_t)**2,interpolation='nearest',cmap='viridis')\n",
    "plt.colorbar()\n",
    "plt.show()"
   ]
  },
  {
   "cell_type": "markdown",
   "metadata": {},
   "source": [
    "Get the correlation matrix"
   ]
  },
  {
   "cell_type": "code",
   "execution_count": null,
   "metadata": {},
   "outputs": [],
   "source": [
    "# multiply the fermionic expectation matrix with the eigenvectors to rotate to the\n",
    "# Majorana basis\n",
    "correl_matrix = np.dot( np.matrix(grad_eigvecs), np.matrix(dens_mat_at_t) )\n",
    "correl_matrix = np.dot( correl_matrix, np.matrix(grad_eigvecs).getH() )\n",
    "\n",
    "# there can be an arbitrary & non-physical real component of correl_matrix, we throw that away here\n",
    "# (the real diagonal does have some meaning so we keep it)\n",
    "diag_correl = np.diag(correl_matrix)\n",
    "correl_matrix = 1j * np.imag(correl_matrix) + np.diag(diag_correl)\n",
    "\n",
    "# cache the correlation matrix\n",
    "# the factor of two corrects for the \\hat{a} fermions being prop to 1/2 (sum of c's) rather than 1/sqrt(2)\n",
    "# this is equivalent to the statement that <c_i c_j> = 2 P_ij\n",
    "correl_matrix = 2. * np.array(correl_matrix)"
   ]
  },
  {
   "cell_type": "code",
   "execution_count": null,
   "metadata": {},
   "outputs": [],
   "source": [
    "print 'REAL'\n",
    "plt.figure( figsize=(10,10) )\n",
    "plt.imshow( np.real(correl_matrix),interpolation='nearest',cmap='viridis')\n",
    "plt.colorbar()\n",
    "plt.show()\n",
    "\n",
    "print 'IMAG'\n",
    "plt.figure( figsize=(10,10) )\n",
    "plt.imshow( np.imag(correl_matrix),interpolation='nearest',cmap='viridis')\n",
    "plt.colorbar()\n",
    "plt.show()\n",
    "\n",
    "print 'ABS'\n",
    "plt.figure( figsize=(10,10) )\n",
    "plt.imshow( np.abs(correl_matrix)**2,interpolation='nearest',cmap='viridis')\n",
    "plt.colorbar()\n",
    "plt.show()"
   ]
  },
  {
   "cell_type": "markdown",
   "metadata": {},
   "source": [
    "Compute the current matrix with this correlation matrix"
   ]
  },
  {
   "cell_type": "code",
   "execution_count": null,
   "metadata": {},
   "outputs": [],
   "source": [
    "currents = grad_sys._compute_thermal_current_matrix(correl_matrix)"
   ]
  },
  {
   "cell_type": "code",
   "execution_count": null,
   "metadata": {},
   "outputs": [],
   "source": [
    "print 'REAL'\n",
    "plt.figure( figsize=(10,10) )\n",
    "plt.imshow( np.real(currents),interpolation='nearest',cmap='viridis')\n",
    "plt.colorbar()\n",
    "plt.show()\n",
    "\n",
    "print 'IMAG'\n",
    "plt.figure( figsize=(10,10) )\n",
    "plt.imshow( np.imag(currents),interpolation='nearest',cmap='viridis')\n",
    "plt.colorbar()\n",
    "plt.show()\n",
    "\n",
    "print 'ABS'\n",
    "plt.figure( figsize=(10,10) )\n",
    "plt.imshow( np.abs(currents)**2,interpolation='nearest',cmap='viridis')\n",
    "plt.colorbar()\n",
    "plt.show()"
   ]
  },
  {
   "cell_type": "markdown",
   "metadata": {},
   "source": [
    "Output the current matrix to a csv"
   ]
  },
  {
   "cell_type": "code",
   "execution_count": null,
   "metadata": {},
   "outputs": [],
   "source": [
    "np.savetxt( \"current\"+\"{0:.2g}\".format(t)+\".csv\",np.real(currents), delimiter=\",\" )"
   ]
  },
  {
   "cell_type": "code",
   "execution_count": null,
   "metadata": {},
   "outputs": [],
   "source": []
  },
  {
   "cell_type": "code",
   "execution_count": null,
   "metadata": {},
   "outputs": [],
   "source": []
  },
  {
   "cell_type": "code",
   "execution_count": null,
   "metadata": {},
   "outputs": [],
   "source": []
  }
 ],
 "metadata": {
  "hide_input": false,
  "kernelspec": {
   "display_name": "Python 2",
   "language": "python",
   "name": "python2"
  },
  "language_info": {
   "codemirror_mode": {
    "name": "ipython",
    "version": 2
   },
   "file_extension": ".py",
   "mimetype": "text/x-python",
   "name": "python",
   "nbconvert_exporter": "python",
   "pygments_lexer": "ipython2"
  },
  "notify_time": "30",
  "toc": {
   "toc_cell": false,
   "toc_number_sections": true,
   "toc_threshold": 6,
   "toc_window_display": false
  }
 },
 "nbformat": 4,
 "nbformat_minor": 0
}
