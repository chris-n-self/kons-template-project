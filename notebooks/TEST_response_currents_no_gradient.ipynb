{
 "cells": [
  {
   "cell_type": "markdown",
   "metadata": {},
   "source": [
    "# Import libraries"
   ]
  },
  {
   "cell_type": "code",
   "execution_count": null,
   "metadata": {},
   "outputs": [],
   "source": [
    "import os\n",
    "import sys\n",
    "import json\n",
    "import csv\n",
    "import time\n",
    "import copy\n",
    "from IPython import display\n",
    "\n",
    "# numeric, scientific\n",
    "from scipy import linalg as spla\n",
    "from scipy.integrate import simps\n",
    "import numpy as np\n",
    "\n",
    "# plotting\n",
    "%matplotlib inline\n",
    "import matplotlib\n",
    "from mpl_toolkits.mplot3d import axes3d\n",
    "from matplotlib import cm\n",
    "import matplotlib.pyplot as plt\n",
    "from mpl_toolkits.axes_grid1 import make_axes_locatable\n",
    "\n",
    "# import Kitaev Honeycomb package\n",
    "import kithcmb\n",
    "from kithcmb import ThermalGradient as gradvs\n",
    "from kithcmb import VortexSectorThermalFermions as nongradvs\n",
    "\n",
    "# import jsci, CT's enhanced json stream write package\n",
    "import jsci\n",
    "from jsci import WriteStream as jsciwrite\n",
    "from jsci import Coding as jscicoding"
   ]
  },
  {
   "cell_type": "code",
   "execution_count": null,
   "metadata": {},
   "outputs": [],
   "source": [
    "plt.style.use('prettyfigs')"
   ]
  },
  {
   "cell_type": "markdown",
   "metadata": {},
   "source": [
    "# Set system parameters and initialise "
   ]
  },
  {
   "cell_type": "code",
   "execution_count": null,
   "metadata": {},
   "outputs": [],
   "source": [
    "L = 8\n",
    "J = 1.\n",
    "kappa = 0.1\n",
    "T = 2.0\n",
    "dt = 0.1\n",
    "max_t = 2.\n",
    "times = np.arange(0,max_t,dt)"
   ]
  },
  {
   "cell_type": "code",
   "execution_count": null,
   "metadata": {},
   "outputs": [],
   "source": [
    "non_grad_sys = nongradvs.VortexSectorThermalFermions(L,J,kappa)\n",
    "non_grad_eigvecs = non_grad_sys._get_eigenvectors()"
   ]
  },
  {
   "cell_type": "code",
   "execution_count": null,
   "metadata": {},
   "outputs": [],
   "source": [
    "# compute the density matrix of the non-gradient state in basis of \n",
    "# the thermal gradient eigenstates\n",
    "ferm_occs = non_grad_sys.get_fermionic_expectation_values(1./T)\n",
    "combined_fermionic_expectation_values = np.empty( 2 * L**2 )\n",
    "for m in range(L**2):\n",
    "    combined_fermionic_expectation_values[m] = np.exp( ferm_occs[2][m] )\n",
    "    combined_fermionic_expectation_values[2 * L**2 - 1 - m] = np.exp( ferm_occs[1][m] )\n",
    "combined_fermionic_expectation_values = np.diag( combined_fermionic_expectation_values )\n",
    "dens_mat = combined_fermionic_expectation_values"
   ]
  },
  {
   "cell_type": "code",
   "execution_count": null,
   "metadata": {},
   "outputs": [],
   "source": [
    "# arrays for storing the total currents in the x- and z- dirn as a function of time\n",
    "xtot = []\n",
    "ztot = []\n",
    "\n",
    "# evolve the density matrix in time\n",
    "for t in np.arange(0,max_t,dt):\n",
    "    start_time = time.time()\n",
    "    U = np.diag( np.exp(-1j * non_grad_sys.spectrum * t) )\n",
    "    dens_mat_at_t = np.dot( U, dens_mat )\n",
    "    dens_mat_at_t = np.dot( dens_mat_at_t, np.matrix(U).getH() )\n",
    "\n",
    "    # multiply the fermionic expectation matrix with the eigenvectors to rotate to the\n",
    "    # Majorana basis\n",
    "    correl_matrix = np.dot( np.matrix(non_grad_eigvecs), np.matrix(dens_mat_at_t) )\n",
    "    correl_matrix = np.dot( correl_matrix, np.matrix(non_grad_eigvecs).getH() )\n",
    "\n",
    "    # there can be an arbitrary & non-physical real component of correl_matrix, we throw that away here\n",
    "    # (the real diagonal does have some meaning so we keep it)\n",
    "    diag_correl = np.diag(correl_matrix)\n",
    "    correl_matrix = 1j * np.imag(correl_matrix) + np.diag(diag_correl)\n",
    "\n",
    "    # cache the correlation matrix\n",
    "    # the factor of two corrects for the \\hat{a} fermions being prop to 1/2 (sum of c's) rather than 1/sqrt(2)\n",
    "    # this is equivalent to the statement that <c_i c_j> = 2 P_ij\n",
    "    correl_matrix = 2. * np.array(correl_matrix)\n",
    "\n",
    "    # get the currents\n",
    "    currents = non_grad_sys._compute_thermal_current_matrix(correl_matrix)\n",
    "\n",
    "    # output the currents\n",
    "    # file_name = output_name+\"{0:.2g}\".format(t)\n",
    "    # np.savetxt( file_name+\".csv\",np.real(currents), delimiter=\",\" )\n",
    "    \n",
    "    display.clear_output(wait=True)\n",
    "    fig,(ax1,ax2) = plt.subplots( 1,2,figsize=(16,8) )\n",
    "    \n",
    "    # get the net currents\n",
    "    net_current,temp_currents = non_grad_sys._sum_curr_in_x_dirn(currents)\n",
    "    net_current = np.sum( net_current, axis=0 )\n",
    "    ax1.set_title('x-dirn, sum : '+str(np.sum(np.real(net_current))),fontsize=20)\n",
    "    ax1.plot( np.real(net_current) )\n",
    "    ax1.set_xlabel(r'$z$')\n",
    "    xtot.append(np.sum(np.real(net_current)))\n",
    "    #\n",
    "    net_current,temp_currents = non_grad_sys._sum_curr_in_y_dirn(currents)\n",
    "    net_current = np.sum( net_current, axis=1 )\n",
    "    ax2.set_title('z-dirn, sum : '+str(np.sum(np.real(net_current))),fontsize=20)\n",
    "    ax2.plot( np.real(net_current) )\n",
    "    ax2.set_xlabel(r'$x$')\n",
    "    ztot.append(np.sum(np.real(net_current)))\n",
    "    \n",
    "    plt.show()\n",
    "    print 't : ',t\n",
    "    \n",
    "    print('took '+str(time.time()-start_time)+' seconds')"
   ]
  },
  {
   "cell_type": "code",
   "execution_count": null,
   "metadata": {},
   "outputs": [],
   "source": [
    "fig,ax = plt.subplots()\n",
    "plt.plot( times,xtot, times,ztot )\n",
    "#ax.set_xlim([-20,20])"
   ]
  },
  {
   "cell_type": "code",
   "execution_count": null,
   "metadata": {},
   "outputs": [],
   "source": [
    "fig,ax = plt.subplots()\n",
    "plt.plot( times,xtot, 'x', times,ztot, 'x' )"
   ]
  },
  {
   "cell_type": "code",
   "execution_count": null,
   "metadata": {},
   "outputs": [],
   "source": []
  },
  {
   "cell_type": "code",
   "execution_count": null,
   "metadata": {},
   "outputs": [],
   "source": []
  }
 ],
 "metadata": {
  "hide_input": false,
  "kernelspec": {
   "display_name": "Python 2",
   "language": "python",
   "name": "python2"
  },
  "language_info": {
   "codemirror_mode": {
    "name": "ipython",
    "version": 2
   },
   "file_extension": ".py",
   "mimetype": "text/x-python",
   "name": "python",
   "nbconvert_exporter": "python",
   "pygments_lexer": "ipython2"
  },
  "notify_time": "30",
  "toc": {
   "toc_cell": false,
   "toc_number_sections": true,
   "toc_threshold": 6,
   "toc_window_display": false
  }
 },
 "nbformat": 4,
 "nbformat_minor": 0
}
